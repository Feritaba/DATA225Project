{
 "cells": [
  {
   "cell_type": "markdown",
   "source": [
    "# Menu Database Analysis and Report\n",
    "### For Analytics, we should use the menu_cstore database\n",
    "Because column store is optimized to run ad hoc queries on billions of rows without indexes,\n",
    "combining columnar data on low-cost object storage with multi-threaded query processing\n",
    "which is perfect for cloud data warehousing/analytics."
   ],
   "metadata": {
    "collapsed": false,
    "pycharm": {
     "name": "#%% md\n"
    }
   }
  },
  {
   "cell_type": "code",
   "execution_count": 1,
   "metadata": {
    "collapsed": true
   },
   "outputs": [],
   "source": [
    "import pandas as pd\n",
    "from IPython.display import display\n",
    "import mysql.connector"
   ]
  },
  {
   "cell_type": "code",
   "execution_count": 2,
   "outputs": [],
   "source": [
    "# Functions that used to connect with the cloud database and display results.\n",
    "def create_connection():\n",
    "    conn = None\n",
    "    try:\n",
    "       conn = mysql.connector.connect(\n",
    "          user=\"DB00004175\",\n",
    "          password=\"tTNlXEirHh)EmwXhtp4koTR\",\n",
    "          host=\"menu-data-db.mdb0002067.db.skysql.net\",\n",
    "          ssl_ca=\"skysql_chain.pem\",\n",
    "          port=5001)\n",
    "       conn.autocommit = False\n",
    "       return conn\n",
    "    except mysql.connector.Error as e:\n",
    "       print(f\"Error connecting to MariaDB Platform: {e}\")\n",
    "    return conn\n",
    "\n",
    "def sql_execute(conn, sql):\n",
    "\n",
    "    try:\n",
    "        cur = conn.cursor()\n",
    "        cur.execute(sql, multi=True)\n",
    "        conn.commit()\n",
    "    except mysql.connector.Error as e:\n",
    "        print(e)\n",
    "\n",
    "def sql_execute_show(conn, sql):\n",
    "\n",
    "    try:\n",
    "        df = pd.read_sql(sql, con = conn)\n",
    "        display(df)\n",
    "        return df\n",
    "    except mysql.connector.Error as e:\n",
    "        print(e)"
   ],
   "metadata": {
    "collapsed": false,
    "pycharm": {
     "name": "#%%\n"
    }
   }
  },
  {
   "cell_type": "markdown",
   "source": [
    "# Querying Example\n",
    "- Only call the create_connection() function once\n",
    "- Use the sql_execute_show() function to display results in python\n",
    "- Remember to close connection at the end of your session"
   ],
   "metadata": {
    "collapsed": false,
    "pycharm": {
     "name": "#%% md\n"
    }
   }
  },
  {
   "cell_type": "code",
   "execution_count": 3,
   "outputs": [],
   "source": [
    "# Only call once\n",
    "conn = create_connection()"
   ],
   "metadata": {
    "collapsed": false,
    "pycharm": {
     "name": "#%%\n"
    }
   }
  },
  {
   "cell_type": "code",
   "execution_count": 5,
   "outputs": [
    {
     "data": {
      "text/plain": "   year  AVG(calories)  AVG(total_fat)  AVG(Protein)\n0  2008       477.7172         26.1575       18.9965\n1  2010       369.4070         17.5817       12.5405\n2  2012       439.7074         32.7203       24.1088\n3  2013       370.0542         16.1378       13.4993\n4  2014       375.3779         16.7372       13.4871\n5  2015       407.4768         18.4459       15.2967\n6  2016       378.0453         16.8043       14.0246\n7  2017       374.0719         16.9589       13.9133\n8  2018       386.7493         17.4970       14.7468",
      "text/html": "<div>\n<style scoped>\n    .dataframe tbody tr th:only-of-type {\n        vertical-align: middle;\n    }\n\n    .dataframe tbody tr th {\n        vertical-align: top;\n    }\n\n    .dataframe thead th {\n        text-align: right;\n    }\n</style>\n<table border=\"1\" class=\"dataframe\">\n  <thead>\n    <tr style=\"text-align: right;\">\n      <th></th>\n      <th>year</th>\n      <th>AVG(calories)</th>\n      <th>AVG(total_fat)</th>\n      <th>AVG(Protein)</th>\n    </tr>\n  </thead>\n  <tbody>\n    <tr>\n      <th>0</th>\n      <td>2008</td>\n      <td>477.7172</td>\n      <td>26.1575</td>\n      <td>18.9965</td>\n    </tr>\n    <tr>\n      <th>1</th>\n      <td>2010</td>\n      <td>369.4070</td>\n      <td>17.5817</td>\n      <td>12.5405</td>\n    </tr>\n    <tr>\n      <th>2</th>\n      <td>2012</td>\n      <td>439.7074</td>\n      <td>32.7203</td>\n      <td>24.1088</td>\n    </tr>\n    <tr>\n      <th>3</th>\n      <td>2013</td>\n      <td>370.0542</td>\n      <td>16.1378</td>\n      <td>13.4993</td>\n    </tr>\n    <tr>\n      <th>4</th>\n      <td>2014</td>\n      <td>375.3779</td>\n      <td>16.7372</td>\n      <td>13.4871</td>\n    </tr>\n    <tr>\n      <th>5</th>\n      <td>2015</td>\n      <td>407.4768</td>\n      <td>18.4459</td>\n      <td>15.2967</td>\n    </tr>\n    <tr>\n      <th>6</th>\n      <td>2016</td>\n      <td>378.0453</td>\n      <td>16.8043</td>\n      <td>14.0246</td>\n    </tr>\n    <tr>\n      <th>7</th>\n      <td>2017</td>\n      <td>374.0719</td>\n      <td>16.9589</td>\n      <td>13.9133</td>\n    </tr>\n    <tr>\n      <th>8</th>\n      <td>2018</td>\n      <td>386.7493</td>\n      <td>17.4970</td>\n      <td>14.7468</td>\n    </tr>\n  </tbody>\n</table>\n</div>"
     },
     "metadata": {},
     "output_type": "display_data"
    }
   ],
   "source": [
    "# sql_execute_show() conn parameter = conn\n",
    "# sql parameter = the string of you SQL query\n",
    "sql_execute_show(conn, sql = '''\n",
    "SELECT year, AVG(calories), AVG(total_fat), AVG(Protein) FROM menu_cstore.nutrition_facts\n",
    "GROUP BY year\n",
    ";\n",
    "''')"
   ],
   "metadata": {
    "collapsed": false,
    "pycharm": {
     "name": "#%%\n"
    }
   }
  },
  {
   "cell_type": "code",
   "execution_count": 16,
   "outputs": [
    {
     "data": {
      "text/plain": "           r_name  AVG(calories)  AVG(total_fat)  AVG(Protein)\n0            None       459.4577         24.4788       17.7381\n1        7 Eleven       289.9115         14.1728        9.8063\n2      Applebee's       535.8140         29.0960       23.8558\n3          Arby's       347.4370         15.9087       13.2212\n4   Auntie Anne's       275.5607          5.2865        4.4921\n..            ...            ...             ...           ...\n92    Whataburger       434.8670         18.6071       13.5658\n93   White Castle       378.2370         13.7935        8.1544\n94       Wingstop       220.3913         11.6316       12.3684\n95     Yard House       697.2137         40.0058       30.8827\n96        Zaxby's       435.8547         29.8580       21.9276\n\n[97 rows x 4 columns]",
      "text/html": "<div>\n<style scoped>\n    .dataframe tbody tr th:only-of-type {\n        vertical-align: middle;\n    }\n\n    .dataframe tbody tr th {\n        vertical-align: top;\n    }\n\n    .dataframe thead th {\n        text-align: right;\n    }\n</style>\n<table border=\"1\" class=\"dataframe\">\n  <thead>\n    <tr style=\"text-align: right;\">\n      <th></th>\n      <th>r_name</th>\n      <th>AVG(calories)</th>\n      <th>AVG(total_fat)</th>\n      <th>AVG(Protein)</th>\n    </tr>\n  </thead>\n  <tbody>\n    <tr>\n      <th>0</th>\n      <td>None</td>\n      <td>459.4577</td>\n      <td>24.4788</td>\n      <td>17.7381</td>\n    </tr>\n    <tr>\n      <th>1</th>\n      <td>7 Eleven</td>\n      <td>289.9115</td>\n      <td>14.1728</td>\n      <td>9.8063</td>\n    </tr>\n    <tr>\n      <th>2</th>\n      <td>Applebee's</td>\n      <td>535.8140</td>\n      <td>29.0960</td>\n      <td>23.8558</td>\n    </tr>\n    <tr>\n      <th>3</th>\n      <td>Arby's</td>\n      <td>347.4370</td>\n      <td>15.9087</td>\n      <td>13.2212</td>\n    </tr>\n    <tr>\n      <th>4</th>\n      <td>Auntie Anne's</td>\n      <td>275.5607</td>\n      <td>5.2865</td>\n      <td>4.4921</td>\n    </tr>\n    <tr>\n      <th>...</th>\n      <td>...</td>\n      <td>...</td>\n      <td>...</td>\n      <td>...</td>\n    </tr>\n    <tr>\n      <th>92</th>\n      <td>Whataburger</td>\n      <td>434.8670</td>\n      <td>18.6071</td>\n      <td>13.5658</td>\n    </tr>\n    <tr>\n      <th>93</th>\n      <td>White Castle</td>\n      <td>378.2370</td>\n      <td>13.7935</td>\n      <td>8.1544</td>\n    </tr>\n    <tr>\n      <th>94</th>\n      <td>Wingstop</td>\n      <td>220.3913</td>\n      <td>11.6316</td>\n      <td>12.3684</td>\n    </tr>\n    <tr>\n      <th>95</th>\n      <td>Yard House</td>\n      <td>697.2137</td>\n      <td>40.0058</td>\n      <td>30.8827</td>\n    </tr>\n    <tr>\n      <th>96</th>\n      <td>Zaxby's</td>\n      <td>435.8547</td>\n      <td>29.8580</td>\n      <td>21.9276</td>\n    </tr>\n  </tbody>\n</table>\n<p>97 rows × 4 columns</p>\n</div>"
     },
     "metadata": {},
     "output_type": "display_data"
    }
   ],
   "source": [
    "sql_execute_show(conn, sql = '''\n",
    "SELECT b.r_name, AVG(calories), AVG(total_fat), AVG(Protein)\n",
    "FROM menu_cstore.nutrition_facts a\n",
    "LEFT JOIN menu_cstore.restaurant b ON a.r_id = b.r_id\n",
    "GROUP BY b.r_name\n",
    ";\n",
    "''')"
   ],
   "metadata": {
    "collapsed": false,
    "pycharm": {
     "name": "#%%\n"
    }
   }
  },
  {
   "cell_type": "code",
   "execution_count": 17,
   "outputs": [],
   "source": [
    "conn.close()\n"
   ],
   "metadata": {
    "collapsed": false,
    "pycharm": {
     "name": "#%%\n"
    }
   }
  },
  {
   "cell_type": "markdown",
   "source": [
    "# MariaDB ROLLUP Syntax Example\n",
    "Reference: https://mariadb.com/kb/en/select-with-rollup/"
   ],
   "metadata": {
    "collapsed": false,
    "pycharm": {
     "name": "#%% md\n"
    }
   }
  },
  {
   "cell_type": "markdown",
   "source": [
    "**For each restaurant in the Entrées category,\n",
    "perform a ROLLUP query, then use pandas pivot function to generate a nicer table**\n"
   ],
   "metadata": {
    "collapsed": false,
    "pycharm": {
     "name": "#%% md\n"
    }
   }
  },
  {
   "cell_type": "code",
   "execution_count": 16,
   "outputs": [
    {
     "data": {
      "text/plain": "         Restaurant       Year  AVG(calories)  AVG(total_fat)  AVG(Protein)\n0          7 Eleven       2013       212.5000          9.6250        8.3750\n1          7 Eleven       2014       213.3333          7.7778        8.2222\n2          7 Eleven       2015       217.2727          8.5455        9.0909\n3          7 Eleven       2016       210.0000          9.6667       14.0000\n4          7 Eleven       2017            NaN             NaN           NaN\n..              ...        ...            ...             ...           ...\n715         Zaxby's       2016       950.1818         53.7727       72.9091\n716         Zaxby's       2017       957.0000         55.5789       68.3684\n717         Zaxby's       2018      1085.5660         52.9811       89.4906\n718         Zaxby's  All Years       974.4121         67.8794       77.1709\n719  All Restaurant  All Years       674.8127         35.7630       35.8775\n\n[720 rows x 5 columns]",
      "text/html": "<div>\n<style scoped>\n    .dataframe tbody tr th:only-of-type {\n        vertical-align: middle;\n    }\n\n    .dataframe tbody tr th {\n        vertical-align: top;\n    }\n\n    .dataframe thead th {\n        text-align: right;\n    }\n</style>\n<table border=\"1\" class=\"dataframe\">\n  <thead>\n    <tr style=\"text-align: right;\">\n      <th></th>\n      <th>Restaurant</th>\n      <th>Year</th>\n      <th>AVG(calories)</th>\n      <th>AVG(total_fat)</th>\n      <th>AVG(Protein)</th>\n    </tr>\n  </thead>\n  <tbody>\n    <tr>\n      <th>0</th>\n      <td>7 Eleven</td>\n      <td>2013</td>\n      <td>212.5000</td>\n      <td>9.6250</td>\n      <td>8.3750</td>\n    </tr>\n    <tr>\n      <th>1</th>\n      <td>7 Eleven</td>\n      <td>2014</td>\n      <td>213.3333</td>\n      <td>7.7778</td>\n      <td>8.2222</td>\n    </tr>\n    <tr>\n      <th>2</th>\n      <td>7 Eleven</td>\n      <td>2015</td>\n      <td>217.2727</td>\n      <td>8.5455</td>\n      <td>9.0909</td>\n    </tr>\n    <tr>\n      <th>3</th>\n      <td>7 Eleven</td>\n      <td>2016</td>\n      <td>210.0000</td>\n      <td>9.6667</td>\n      <td>14.0000</td>\n    </tr>\n    <tr>\n      <th>4</th>\n      <td>7 Eleven</td>\n      <td>2017</td>\n      <td>NaN</td>\n      <td>NaN</td>\n      <td>NaN</td>\n    </tr>\n    <tr>\n      <th>...</th>\n      <td>...</td>\n      <td>...</td>\n      <td>...</td>\n      <td>...</td>\n      <td>...</td>\n    </tr>\n    <tr>\n      <th>715</th>\n      <td>Zaxby's</td>\n      <td>2016</td>\n      <td>950.1818</td>\n      <td>53.7727</td>\n      <td>72.9091</td>\n    </tr>\n    <tr>\n      <th>716</th>\n      <td>Zaxby's</td>\n      <td>2017</td>\n      <td>957.0000</td>\n      <td>55.5789</td>\n      <td>68.3684</td>\n    </tr>\n    <tr>\n      <th>717</th>\n      <td>Zaxby's</td>\n      <td>2018</td>\n      <td>1085.5660</td>\n      <td>52.9811</td>\n      <td>89.4906</td>\n    </tr>\n    <tr>\n      <th>718</th>\n      <td>Zaxby's</td>\n      <td>All Years</td>\n      <td>974.4121</td>\n      <td>67.8794</td>\n      <td>77.1709</td>\n    </tr>\n    <tr>\n      <th>719</th>\n      <td>All Restaurant</td>\n      <td>All Years</td>\n      <td>674.8127</td>\n      <td>35.7630</td>\n      <td>35.8775</td>\n    </tr>\n  </tbody>\n</table>\n<p>720 rows × 5 columns</p>\n</div>"
     },
     "metadata": {},
     "output_type": "display_data"
    }
   ],
   "source": [
    "df_rollup = sql_execute_show(conn, sql = '''\n",
    "SELECT\n",
    "    COALESCE(b.r_name, \"All Restaurants\") AS \"Restaurant\",\n",
    "    COALESCE(year, \"All Years\") AS \"Year\",\n",
    "    AVG(calories), AVG(total_fat), AVG(Protein)\n",
    "FROM menu_cstore.nutrition_facts a\n",
    "LEFT JOIN menu_cstore.restaurant b ON a.r_id = b.r_id\n",
    "WHERE b.r_name != \"None\" AND a.cat_id = 5\n",
    "GROUP BY b.r_name, year WITH ROLLUP\n",
    ";\n",
    "''')"
   ],
   "metadata": {
    "collapsed": false,
    "pycharm": {
     "name": "#%%\n"
    }
   }
  },
  {
   "cell_type": "markdown",
   "source": [
    "**For the average calories for each restaurant in the Entrées category over the years**"
   ],
   "metadata": {
    "collapsed": false
   }
  },
  {
   "cell_type": "code",
   "execution_count": 18,
   "outputs": [
    {
     "data": {
      "text/plain": "Year                             2008      2010      2012      2013  \\\nRestaurant                                                            \n7 Eleven                          NaN       NaN       NaN  212.5000   \nAll Restaurant                    NaN       NaN       NaN       NaN   \nApplebee's                   345.0000       NaN  888.6207  831.2069   \nArby's                       387.2857  414.0000  345.0000  335.0000   \nBJ's Restaurant & Brewhouse       NaN       NaN       NaN       NaN   \n...                               ...       ...       ...       ...   \nWhataburger                  617.7778  590.5556  565.5556  684.1379   \nWhite Castle                      NaN       NaN  460.0000  460.0000   \nWingstop                          NaN       NaN       NaN       NaN   \nYard House                        NaN       NaN       NaN       NaN   \nZaxby's                      900.3125  788.0714  909.9444  909.9444   \n\nYear                              2014       2015       2016       2017  \\\nRestaurant                                                                \n7 Eleven                      213.3333   217.2727   210.0000        NaN   \nAll Restaurant                     NaN        NaN        NaN        NaN   \nApplebee's                    767.9104   956.4935   755.2941   742.5532   \nArby's                        390.0000   390.0000   400.0000   387.5000   \nBJ's Restaurant & Brewhouse        NaN   852.9091   855.3061   821.2500   \n...                                ...        ...        ...        ...   \nWhataburger                   684.8276   659.0909   647.9412   656.1538   \nWhite Castle                  230.0000   367.1429  1284.0000  1284.0000   \nWingstop                           NaN        NaN   278.9333   278.9333   \nYard House                         NaN   976.0380  1052.6471  1014.5161   \nZaxby's                      1001.0000  1003.6842   950.1818   957.0000   \n\nYear                              2018  All Years  \nRestaurant                                         \n7 Eleven                           NaN   214.1935  \nAll Restaurant                     NaN   674.8127  \nApplebee's                    781.9565   822.5980  \nArby's                        505.7143   403.2750  \nBJ's Restaurant & Brewhouse   826.8056   838.2589  \n...                                ...        ...  \nWhataburger                   665.3659   649.7297  \nWhite Castle                  280.0000   874.2857  \nWingstop                      278.9333   278.9333  \nYard House                   1028.7097  1007.0686  \nZaxby's                      1085.5660   974.4121  \n\n[92 rows x 10 columns]",
      "text/html": "<div>\n<style scoped>\n    .dataframe tbody tr th:only-of-type {\n        vertical-align: middle;\n    }\n\n    .dataframe tbody tr th {\n        vertical-align: top;\n    }\n\n    .dataframe thead th {\n        text-align: right;\n    }\n</style>\n<table border=\"1\" class=\"dataframe\">\n  <thead>\n    <tr style=\"text-align: right;\">\n      <th>Year</th>\n      <th>2008</th>\n      <th>2010</th>\n      <th>2012</th>\n      <th>2013</th>\n      <th>2014</th>\n      <th>2015</th>\n      <th>2016</th>\n      <th>2017</th>\n      <th>2018</th>\n      <th>All Years</th>\n    </tr>\n    <tr>\n      <th>Restaurant</th>\n      <th></th>\n      <th></th>\n      <th></th>\n      <th></th>\n      <th></th>\n      <th></th>\n      <th></th>\n      <th></th>\n      <th></th>\n      <th></th>\n    </tr>\n  </thead>\n  <tbody>\n    <tr>\n      <th>7 Eleven</th>\n      <td>NaN</td>\n      <td>NaN</td>\n      <td>NaN</td>\n      <td>212.5000</td>\n      <td>213.3333</td>\n      <td>217.2727</td>\n      <td>210.0000</td>\n      <td>NaN</td>\n      <td>NaN</td>\n      <td>214.1935</td>\n    </tr>\n    <tr>\n      <th>All Restaurant</th>\n      <td>NaN</td>\n      <td>NaN</td>\n      <td>NaN</td>\n      <td>NaN</td>\n      <td>NaN</td>\n      <td>NaN</td>\n      <td>NaN</td>\n      <td>NaN</td>\n      <td>NaN</td>\n      <td>674.8127</td>\n    </tr>\n    <tr>\n      <th>Applebee's</th>\n      <td>345.0000</td>\n      <td>NaN</td>\n      <td>888.6207</td>\n      <td>831.2069</td>\n      <td>767.9104</td>\n      <td>956.4935</td>\n      <td>755.2941</td>\n      <td>742.5532</td>\n      <td>781.9565</td>\n      <td>822.5980</td>\n    </tr>\n    <tr>\n      <th>Arby's</th>\n      <td>387.2857</td>\n      <td>414.0000</td>\n      <td>345.0000</td>\n      <td>335.0000</td>\n      <td>390.0000</td>\n      <td>390.0000</td>\n      <td>400.0000</td>\n      <td>387.5000</td>\n      <td>505.7143</td>\n      <td>403.2750</td>\n    </tr>\n    <tr>\n      <th>BJ's Restaurant &amp; Brewhouse</th>\n      <td>NaN</td>\n      <td>NaN</td>\n      <td>NaN</td>\n      <td>NaN</td>\n      <td>NaN</td>\n      <td>852.9091</td>\n      <td>855.3061</td>\n      <td>821.2500</td>\n      <td>826.8056</td>\n      <td>838.2589</td>\n    </tr>\n    <tr>\n      <th>...</th>\n      <td>...</td>\n      <td>...</td>\n      <td>...</td>\n      <td>...</td>\n      <td>...</td>\n      <td>...</td>\n      <td>...</td>\n      <td>...</td>\n      <td>...</td>\n      <td>...</td>\n    </tr>\n    <tr>\n      <th>Whataburger</th>\n      <td>617.7778</td>\n      <td>590.5556</td>\n      <td>565.5556</td>\n      <td>684.1379</td>\n      <td>684.8276</td>\n      <td>659.0909</td>\n      <td>647.9412</td>\n      <td>656.1538</td>\n      <td>665.3659</td>\n      <td>649.7297</td>\n    </tr>\n    <tr>\n      <th>White Castle</th>\n      <td>NaN</td>\n      <td>NaN</td>\n      <td>460.0000</td>\n      <td>460.0000</td>\n      <td>230.0000</td>\n      <td>367.1429</td>\n      <td>1284.0000</td>\n      <td>1284.0000</td>\n      <td>280.0000</td>\n      <td>874.2857</td>\n    </tr>\n    <tr>\n      <th>Wingstop</th>\n      <td>NaN</td>\n      <td>NaN</td>\n      <td>NaN</td>\n      <td>NaN</td>\n      <td>NaN</td>\n      <td>NaN</td>\n      <td>278.9333</td>\n      <td>278.9333</td>\n      <td>278.9333</td>\n      <td>278.9333</td>\n    </tr>\n    <tr>\n      <th>Yard House</th>\n      <td>NaN</td>\n      <td>NaN</td>\n      <td>NaN</td>\n      <td>NaN</td>\n      <td>NaN</td>\n      <td>976.0380</td>\n      <td>1052.6471</td>\n      <td>1014.5161</td>\n      <td>1028.7097</td>\n      <td>1007.0686</td>\n    </tr>\n    <tr>\n      <th>Zaxby's</th>\n      <td>900.3125</td>\n      <td>788.0714</td>\n      <td>909.9444</td>\n      <td>909.9444</td>\n      <td>1001.0000</td>\n      <td>1003.6842</td>\n      <td>950.1818</td>\n      <td>957.0000</td>\n      <td>1085.5660</td>\n      <td>974.4121</td>\n    </tr>\n  </tbody>\n</table>\n<p>92 rows × 10 columns</p>\n</div>"
     },
     "execution_count": 18,
     "metadata": {},
     "output_type": "execute_result"
    }
   ],
   "source": [
    "df_rollup.pivot(index=[\"Restaurant\"], columns=\"Year\", values=\"AVG(calories)\")"
   ],
   "metadata": {
    "collapsed": false,
    "pycharm": {
     "name": "#%%\n"
    }
   }
  },
  {
   "cell_type": "markdown",
   "source": [
    "**For the average protein for each restaurant in the Entrées category over the years**"
   ],
   "metadata": {
    "collapsed": false,
    "pycharm": {
     "name": "#%% md\n"
    }
   }
  },
  {
   "cell_type": "code",
   "execution_count": 55,
   "outputs": [],
   "source": [
    "#df_rollup.pivot(index=[\"r_name\"], columns=\"year\", values=\"AVG(Protein)\")"
   ],
   "metadata": {
    "collapsed": false,
    "pycharm": {
     "name": "#%%\n"
    }
   }
  },
  {
   "cell_type": "markdown",
   "source": [
    "**For the average total_fat for each restaurant in the Entrées category over the years**"
   ],
   "metadata": {
    "collapsed": false,
    "pycharm": {
     "name": "#%% md\n"
    }
   }
  },
  {
   "cell_type": "code",
   "execution_count": 56,
   "outputs": [],
   "source": [
    "#df_rollup.pivot(index=[\"r_name\"], columns=\"year\", values=\"AVG(total_fat)\")"
   ],
   "metadata": {
    "collapsed": false,
    "pycharm": {
     "name": "#%%\n"
    }
   }
  },
  {
   "cell_type": "markdown",
   "source": [
    "## We can also add the food_category in the GROUP BY clause, to make it a three dimensional cube"
   ],
   "metadata": {
    "collapsed": false,
    "pycharm": {
     "name": "#%% md\n"
    }
   }
  },
  {
   "cell_type": "code",
   "execution_count": 5,
   "outputs": [
    {
     "data": {
      "text/plain": "           Year       Restaurant                Category  AVG(calories)  \\\n0          2013         7 Eleven      Appetizers & Sides        66.6667   \n1          2014         7 Eleven      Appetizers & Sides        80.0000   \n2          2015         7 Eleven      Appetizers & Sides        85.0000   \n3          2016         7 Eleven      Appetizers & Sides        80.0000   \n4          2017         7 Eleven      Appetizers & Sides            NaN   \n...         ...              ...                     ...            ...   \n7328       2017          Zaxby's  Toppings & Ingredients       151.8182   \n7329       2018          Zaxby's  Toppings & Ingredients       172.7941   \n7330  All Years          Zaxby's  Toppings & Ingredients       149.5472   \n7331  All Years          Zaxby's          All Categories       435.8547   \n7332  All Years  All Restaurants          All Categories       389.9228   \n\n      AVG(total_fat)  AVG(Protein)  \n0             2.3333        5.3333  \n1             4.0000        6.0000  \n2             5.0000        4.5000  \n3             4.0000        6.0000  \n4                NaN           NaN  \n...              ...           ...  \n7328         10.5714        3.3896  \n7329         14.7353        1.6471  \n7330         14.4843        3.3007  \n7331         29.8580       21.9276  \n7332         18.7529       15.1217  \n\n[7333 rows x 6 columns]",
      "text/html": "<div>\n<style scoped>\n    .dataframe tbody tr th:only-of-type {\n        vertical-align: middle;\n    }\n\n    .dataframe tbody tr th {\n        vertical-align: top;\n    }\n\n    .dataframe thead th {\n        text-align: right;\n    }\n</style>\n<table border=\"1\" class=\"dataframe\">\n  <thead>\n    <tr style=\"text-align: right;\">\n      <th></th>\n      <th>Year</th>\n      <th>Restaurant</th>\n      <th>Category</th>\n      <th>AVG(calories)</th>\n      <th>AVG(total_fat)</th>\n      <th>AVG(Protein)</th>\n    </tr>\n  </thead>\n  <tbody>\n    <tr>\n      <th>0</th>\n      <td>2013</td>\n      <td>7 Eleven</td>\n      <td>Appetizers &amp; Sides</td>\n      <td>66.6667</td>\n      <td>2.3333</td>\n      <td>5.3333</td>\n    </tr>\n    <tr>\n      <th>1</th>\n      <td>2014</td>\n      <td>7 Eleven</td>\n      <td>Appetizers &amp; Sides</td>\n      <td>80.0000</td>\n      <td>4.0000</td>\n      <td>6.0000</td>\n    </tr>\n    <tr>\n      <th>2</th>\n      <td>2015</td>\n      <td>7 Eleven</td>\n      <td>Appetizers &amp; Sides</td>\n      <td>85.0000</td>\n      <td>5.0000</td>\n      <td>4.5000</td>\n    </tr>\n    <tr>\n      <th>3</th>\n      <td>2016</td>\n      <td>7 Eleven</td>\n      <td>Appetizers &amp; Sides</td>\n      <td>80.0000</td>\n      <td>4.0000</td>\n      <td>6.0000</td>\n    </tr>\n    <tr>\n      <th>4</th>\n      <td>2017</td>\n      <td>7 Eleven</td>\n      <td>Appetizers &amp; Sides</td>\n      <td>NaN</td>\n      <td>NaN</td>\n      <td>NaN</td>\n    </tr>\n    <tr>\n      <th>...</th>\n      <td>...</td>\n      <td>...</td>\n      <td>...</td>\n      <td>...</td>\n      <td>...</td>\n      <td>...</td>\n    </tr>\n    <tr>\n      <th>7328</th>\n      <td>2017</td>\n      <td>Zaxby's</td>\n      <td>Toppings &amp; Ingredients</td>\n      <td>151.8182</td>\n      <td>10.5714</td>\n      <td>3.3896</td>\n    </tr>\n    <tr>\n      <th>7329</th>\n      <td>2018</td>\n      <td>Zaxby's</td>\n      <td>Toppings &amp; Ingredients</td>\n      <td>172.7941</td>\n      <td>14.7353</td>\n      <td>1.6471</td>\n    </tr>\n    <tr>\n      <th>7330</th>\n      <td>All Years</td>\n      <td>Zaxby's</td>\n      <td>Toppings &amp; Ingredients</td>\n      <td>149.5472</td>\n      <td>14.4843</td>\n      <td>3.3007</td>\n    </tr>\n    <tr>\n      <th>7331</th>\n      <td>All Years</td>\n      <td>Zaxby's</td>\n      <td>All Categories</td>\n      <td>435.8547</td>\n      <td>29.8580</td>\n      <td>21.9276</td>\n    </tr>\n    <tr>\n      <th>7332</th>\n      <td>All Years</td>\n      <td>All Restaurants</td>\n      <td>All Categories</td>\n      <td>389.9228</td>\n      <td>18.7529</td>\n      <td>15.1217</td>\n    </tr>\n  </tbody>\n</table>\n<p>7333 rows × 6 columns</p>\n</div>"
     },
     "metadata": {},
     "output_type": "display_data"
    }
   ],
   "source": [
    "df_rollup2 = sql_execute_show(conn, sql = '''\n",
    "SELECT\n",
    "    COALESCE(year, \"All Years\") AS \"Year\",\n",
    "    COALESCE(b.r_name, \"All Restaurants\") AS \"Restaurant\",\n",
    "    COALESCE(c.cat_name, \"All Categories\") AS \"Category\",\n",
    "    AVG(calories), AVG(total_fat), AVG(Protein)\n",
    "FROM menu_cstore.nutrition_facts a\n",
    "LEFT JOIN menu_cstore.restaurant b ON a.r_id = b.r_id\n",
    "LEFT JOIN menu_cstore.food_category c ON a.cat_id = c.cat_id\n",
    "WHERE r_name != \"None\" AND cat_name != \"None\" #AND r_name = \"Applebee's\"\n",
    "GROUP BY b.r_name, c.cat_name, year WITH ROLLUP\n",
    ";\n",
    "''')"
   ],
   "metadata": {
    "collapsed": false,
    "pycharm": {
     "name": "#%%\n"
    }
   }
  },
  {
   "cell_type": "code",
   "execution_count": 6,
   "outputs": [
    {
     "data": {
      "text/plain": "Year                                    2008       2010      2012      2013  \\\nRestaurant Category                                                           \n7 Eleven   All Categories                NaN        NaN       NaN       NaN   \n           Appetizers & Sides            NaN        NaN       NaN   66.6667   \n           Baked Goods                   NaN        NaN       NaN       NaN   \n           Beverages                     NaN        NaN       NaN   99.0000   \n           Burgers                       NaN        NaN       NaN  440.0000   \n...                                      ...        ...       ...       ...   \nZaxby's    Entrees                  900.3125   788.0714  909.9444  909.9444   \n           Fried Potatoes           554.2000   485.3750  475.0000  452.6000   \n           Salads                   555.6000   586.7000  500.4545  506.3636   \n           Sandwiches              1087.5714  1086.8889  895.5000  885.0000   \n           Toppings & Ingredients   113.6875   119.5660  148.9429  157.5556   \n\nYear                                    2014       2015      2016      2017  \\\nRestaurant Category                                                           \n7 Eleven   All Categories                NaN        NaN       NaN       NaN   \n           Appetizers & Sides        80.0000    85.0000   80.0000       NaN   \n           Baked Goods                   NaN        NaN       NaN       NaN   \n           Beverages                103.4286   101.0000  130.6667  180.0000   \n           Burgers                  440.0000   440.0000       NaN       NaN   \n...                                      ...        ...       ...       ...   \nZaxby's    Entrees                 1001.0000  1003.6842  950.1818  957.0000   \n           Fried Potatoes           568.0000   568.0000  572.0000  572.0000   \n           Salads                   548.2143   576.0000  522.1875  522.1875   \n           Sandwiches               958.5000   940.4545  990.4545  990.4545   \n           Toppings & Ingredients   166.6438   155.5195  151.8182  151.8182   \n\nYear                                    2018  All Years  \nRestaurant Category                                      \n7 Eleven   All Categories                NaN   289.9115  \n           Appetizers & Sides            NaN    75.7143  \n           Baked Goods                   NaN        NaN  \n           Beverages                100.0000   122.9556  \n           Burgers                       NaN   440.0000  \n...                                      ...        ...  \nZaxby's    Entrees                 1085.5660   974.4121  \n           Fried Potatoes           482.0000   523.9787  \n           Salads                   507.3077   535.5000  \n           Sandwiches               904.0909   949.3590  \n           Toppings & Ingredients   172.7941   149.5472  \n\n[1049 rows x 10 columns]",
      "text/html": "<div>\n<style scoped>\n    .dataframe tbody tr th:only-of-type {\n        vertical-align: middle;\n    }\n\n    .dataframe tbody tr th {\n        vertical-align: top;\n    }\n\n    .dataframe thead th {\n        text-align: right;\n    }\n</style>\n<table border=\"1\" class=\"dataframe\">\n  <thead>\n    <tr style=\"text-align: right;\">\n      <th></th>\n      <th>Year</th>\n      <th>2008</th>\n      <th>2010</th>\n      <th>2012</th>\n      <th>2013</th>\n      <th>2014</th>\n      <th>2015</th>\n      <th>2016</th>\n      <th>2017</th>\n      <th>2018</th>\n      <th>All Years</th>\n    </tr>\n    <tr>\n      <th>Restaurant</th>\n      <th>Category</th>\n      <th></th>\n      <th></th>\n      <th></th>\n      <th></th>\n      <th></th>\n      <th></th>\n      <th></th>\n      <th></th>\n      <th></th>\n      <th></th>\n    </tr>\n  </thead>\n  <tbody>\n    <tr>\n      <th rowspan=\"5\" valign=\"top\">7 Eleven</th>\n      <th>All Categories</th>\n      <td>NaN</td>\n      <td>NaN</td>\n      <td>NaN</td>\n      <td>NaN</td>\n      <td>NaN</td>\n      <td>NaN</td>\n      <td>NaN</td>\n      <td>NaN</td>\n      <td>NaN</td>\n      <td>289.9115</td>\n    </tr>\n    <tr>\n      <th>Appetizers &amp; Sides</th>\n      <td>NaN</td>\n      <td>NaN</td>\n      <td>NaN</td>\n      <td>66.6667</td>\n      <td>80.0000</td>\n      <td>85.0000</td>\n      <td>80.0000</td>\n      <td>NaN</td>\n      <td>NaN</td>\n      <td>75.7143</td>\n    </tr>\n    <tr>\n      <th>Baked Goods</th>\n      <td>NaN</td>\n      <td>NaN</td>\n      <td>NaN</td>\n      <td>NaN</td>\n      <td>NaN</td>\n      <td>NaN</td>\n      <td>NaN</td>\n      <td>NaN</td>\n      <td>NaN</td>\n      <td>NaN</td>\n    </tr>\n    <tr>\n      <th>Beverages</th>\n      <td>NaN</td>\n      <td>NaN</td>\n      <td>NaN</td>\n      <td>99.0000</td>\n      <td>103.4286</td>\n      <td>101.0000</td>\n      <td>130.6667</td>\n      <td>180.0000</td>\n      <td>100.0000</td>\n      <td>122.9556</td>\n    </tr>\n    <tr>\n      <th>Burgers</th>\n      <td>NaN</td>\n      <td>NaN</td>\n      <td>NaN</td>\n      <td>440.0000</td>\n      <td>440.0000</td>\n      <td>440.0000</td>\n      <td>NaN</td>\n      <td>NaN</td>\n      <td>NaN</td>\n      <td>440.0000</td>\n    </tr>\n    <tr>\n      <th>...</th>\n      <th>...</th>\n      <td>...</td>\n      <td>...</td>\n      <td>...</td>\n      <td>...</td>\n      <td>...</td>\n      <td>...</td>\n      <td>...</td>\n      <td>...</td>\n      <td>...</td>\n      <td>...</td>\n    </tr>\n    <tr>\n      <th rowspan=\"5\" valign=\"top\">Zaxby's</th>\n      <th>Entrees</th>\n      <td>900.3125</td>\n      <td>788.0714</td>\n      <td>909.9444</td>\n      <td>909.9444</td>\n      <td>1001.0000</td>\n      <td>1003.6842</td>\n      <td>950.1818</td>\n      <td>957.0000</td>\n      <td>1085.5660</td>\n      <td>974.4121</td>\n    </tr>\n    <tr>\n      <th>Fried Potatoes</th>\n      <td>554.2000</td>\n      <td>485.3750</td>\n      <td>475.0000</td>\n      <td>452.6000</td>\n      <td>568.0000</td>\n      <td>568.0000</td>\n      <td>572.0000</td>\n      <td>572.0000</td>\n      <td>482.0000</td>\n      <td>523.9787</td>\n    </tr>\n    <tr>\n      <th>Salads</th>\n      <td>555.6000</td>\n      <td>586.7000</td>\n      <td>500.4545</td>\n      <td>506.3636</td>\n      <td>548.2143</td>\n      <td>576.0000</td>\n      <td>522.1875</td>\n      <td>522.1875</td>\n      <td>507.3077</td>\n      <td>535.5000</td>\n    </tr>\n    <tr>\n      <th>Sandwiches</th>\n      <td>1087.5714</td>\n      <td>1086.8889</td>\n      <td>895.5000</td>\n      <td>885.0000</td>\n      <td>958.5000</td>\n      <td>940.4545</td>\n      <td>990.4545</td>\n      <td>990.4545</td>\n      <td>904.0909</td>\n      <td>949.3590</td>\n    </tr>\n    <tr>\n      <th>Toppings &amp; Ingredients</th>\n      <td>113.6875</td>\n      <td>119.5660</td>\n      <td>148.9429</td>\n      <td>157.5556</td>\n      <td>166.6438</td>\n      <td>155.5195</td>\n      <td>151.8182</td>\n      <td>151.8182</td>\n      <td>172.7941</td>\n      <td>149.5472</td>\n    </tr>\n  </tbody>\n</table>\n<p>1049 rows × 10 columns</p>\n</div>"
     },
     "execution_count": 6,
     "metadata": {},
     "output_type": "execute_result"
    }
   ],
   "source": [
    "df_rollup2.pivot(index=[\"Restaurant\", \"Category\"], columns=\"Year\", values=\"AVG(calories)\")"
   ],
   "metadata": {
    "collapsed": false,
    "pycharm": {
     "name": "#%%\n"
    }
   }
  },
  {
   "cell_type": "code",
   "execution_count": null,
   "outputs": [],
   "source": [],
   "metadata": {
    "collapsed": false,
    "pycharm": {
     "name": "#%%\n"
    }
   }
  }
 ],
 "metadata": {
  "kernelspec": {
   "display_name": "Python 3",
   "language": "python",
   "name": "python3"
  },
  "language_info": {
   "codemirror_mode": {
    "name": "ipython",
    "version": 2
   },
   "file_extension": ".py",
   "mimetype": "text/x-python",
   "name": "python",
   "nbconvert_exporter": "python",
   "pygments_lexer": "ipython2",
   "version": "2.7.6"
  }
 },
 "nbformat": 4,
 "nbformat_minor": 0
}