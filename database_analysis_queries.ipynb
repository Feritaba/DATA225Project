{
 "cells": [
  {
   "cell_type": "markdown",
   "source": [
    "# Menu Database Analysis and Report\n",
    "### For Analytics, we should use the menu_cstore database\n",
    "Because column store is optimized to run ad hoc queries on billions of rows without indexes,\n",
    "combining columnar data on low-cost object storage with multi-threaded query processing\n",
    "which is perfect for cloud data warehousing/analytics."
   ],
   "metadata": {
    "collapsed": false,
    "pycharm": {
     "name": "#%% md\n"
    }
   }
  },
  {
   "cell_type": "code",
   "execution_count": 1,
   "metadata": {
    "collapsed": true
   },
   "outputs": [],
   "source": [
    "import pandas as pd\n",
    "from IPython.display import display\n",
    "import mysql.connector"
   ]
  },
  {
   "cell_type": "code",
   "execution_count": 2,
   "outputs": [],
   "source": [
    "# Functions that used to connect with the cloud database and display results.\n",
    "def create_connection():\n",
    "    conn = None\n",
    "    try:\n",
    "       conn = mysql.connector.connect(\n",
    "          user=\"DB00004175\",\n",
    "          password=\"tTNlXEirHh)EmwXhtp4koTR\",\n",
    "          host=\"menu-data-db.mdb0002067.db.skysql.net\",\n",
    "          ssl_ca=\"skysql_chain.pem\",\n",
    "          port=5001)\n",
    "       conn.autocommit = False\n",
    "       return conn\n",
    "    except mysql.connector.Error as e:\n",
    "       print(f\"Error connecting to MariaDB Platform: {e}\")\n",
    "    return conn\n",
    "\n",
    "def sql_execute(conn, sql):\n",
    "\n",
    "    try:\n",
    "        cur = conn.cursor()\n",
    "        cur.execute(sql, multi=True)\n",
    "        conn.commit()\n",
    "    except mysql.connector.Error as e:\n",
    "        print(e)\n",
    "\n",
    "def sql_execute_show(conn, sql):\n",
    "\n",
    "    try:\n",
    "        df = pd.read_sql(sql, con = conn)\n",
    "        display(df)\n",
    "    except mysql.connector.Error as e:\n",
    "        print(e)"
   ],
   "metadata": {
    "collapsed": false,
    "pycharm": {
     "name": "#%%\n"
    }
   }
  },
  {
   "cell_type": "markdown",
   "source": [
    "# Querying Example\n",
    "- Only call the create_connection() function once\n",
    "- Use the sql_execute_show() function to display results in python\n",
    "- Remember to close connection at the end of your session"
   ],
   "metadata": {
    "collapsed": false,
    "pycharm": {
     "name": "#%% md\n"
    }
   }
  },
  {
   "cell_type": "code",
   "execution_count": 4,
   "outputs": [],
   "source": [
    "# Only call once\n",
    "conn = create_connection()"
   ],
   "metadata": {
    "collapsed": false,
    "pycharm": {
     "name": "#%%\n"
    }
   }
  },
  {
   "cell_type": "code",
   "execution_count": 5,
   "outputs": [
    {
     "data": {
      "text/plain": "   year  AVG(calories)  AVG(total_fat)  AVG(Protein)\n0  2008       477.7172         26.1575       18.9965\n1  2010       369.4070         17.5817       12.5405\n2  2012       439.7074         32.7203       24.1088\n3  2013       370.0542         16.1378       13.4993\n4  2014       375.3779         16.7372       13.4871\n5  2015       407.4768         18.4459       15.2967\n6  2016       378.0453         16.8043       14.0246\n7  2017       374.0719         16.9589       13.9133\n8  2018       386.7493         17.4970       14.7468",
      "text/html": "<div>\n<style scoped>\n    .dataframe tbody tr th:only-of-type {\n        vertical-align: middle;\n    }\n\n    .dataframe tbody tr th {\n        vertical-align: top;\n    }\n\n    .dataframe thead th {\n        text-align: right;\n    }\n</style>\n<table border=\"1\" class=\"dataframe\">\n  <thead>\n    <tr style=\"text-align: right;\">\n      <th></th>\n      <th>year</th>\n      <th>AVG(calories)</th>\n      <th>AVG(total_fat)</th>\n      <th>AVG(Protein)</th>\n    </tr>\n  </thead>\n  <tbody>\n    <tr>\n      <th>0</th>\n      <td>2008</td>\n      <td>477.7172</td>\n      <td>26.1575</td>\n      <td>18.9965</td>\n    </tr>\n    <tr>\n      <th>1</th>\n      <td>2010</td>\n      <td>369.4070</td>\n      <td>17.5817</td>\n      <td>12.5405</td>\n    </tr>\n    <tr>\n      <th>2</th>\n      <td>2012</td>\n      <td>439.7074</td>\n      <td>32.7203</td>\n      <td>24.1088</td>\n    </tr>\n    <tr>\n      <th>3</th>\n      <td>2013</td>\n      <td>370.0542</td>\n      <td>16.1378</td>\n      <td>13.4993</td>\n    </tr>\n    <tr>\n      <th>4</th>\n      <td>2014</td>\n      <td>375.3779</td>\n      <td>16.7372</td>\n      <td>13.4871</td>\n    </tr>\n    <tr>\n      <th>5</th>\n      <td>2015</td>\n      <td>407.4768</td>\n      <td>18.4459</td>\n      <td>15.2967</td>\n    </tr>\n    <tr>\n      <th>6</th>\n      <td>2016</td>\n      <td>378.0453</td>\n      <td>16.8043</td>\n      <td>14.0246</td>\n    </tr>\n    <tr>\n      <th>7</th>\n      <td>2017</td>\n      <td>374.0719</td>\n      <td>16.9589</td>\n      <td>13.9133</td>\n    </tr>\n    <tr>\n      <th>8</th>\n      <td>2018</td>\n      <td>386.7493</td>\n      <td>17.4970</td>\n      <td>14.7468</td>\n    </tr>\n  </tbody>\n</table>\n</div>"
     },
     "metadata": {},
     "output_type": "display_data"
    }
   ],
   "source": [
    "# sql_execute_show() conn parameter = conn\n",
    "# sql parameter = the string of you SQL query\n",
    "sql_execute_show(conn, sql = '''\n",
    "SELECT year, AVG(calories), AVG(total_fat), AVG(Protein) FROM menu_cstore.nutrition_facts\n",
    "GROUP BY year\n",
    ";\n",
    "''')"
   ],
   "metadata": {
    "collapsed": false,
    "pycharm": {
     "name": "#%%\n"
    }
   }
  },
  {
   "cell_type": "code",
   "execution_count": 16,
   "outputs": [
    {
     "data": {
      "text/plain": "           r_name  AVG(calories)  AVG(total_fat)  AVG(Protein)\n0            None       459.4577         24.4788       17.7381\n1        7 Eleven       289.9115         14.1728        9.8063\n2      Applebee's       535.8140         29.0960       23.8558\n3          Arby's       347.4370         15.9087       13.2212\n4   Auntie Anne's       275.5607          5.2865        4.4921\n..            ...            ...             ...           ...\n92    Whataburger       434.8670         18.6071       13.5658\n93   White Castle       378.2370         13.7935        8.1544\n94       Wingstop       220.3913         11.6316       12.3684\n95     Yard House       697.2137         40.0058       30.8827\n96        Zaxby's       435.8547         29.8580       21.9276\n\n[97 rows x 4 columns]",
      "text/html": "<div>\n<style scoped>\n    .dataframe tbody tr th:only-of-type {\n        vertical-align: middle;\n    }\n\n    .dataframe tbody tr th {\n        vertical-align: top;\n    }\n\n    .dataframe thead th {\n        text-align: right;\n    }\n</style>\n<table border=\"1\" class=\"dataframe\">\n  <thead>\n    <tr style=\"text-align: right;\">\n      <th></th>\n      <th>r_name</th>\n      <th>AVG(calories)</th>\n      <th>AVG(total_fat)</th>\n      <th>AVG(Protein)</th>\n    </tr>\n  </thead>\n  <tbody>\n    <tr>\n      <th>0</th>\n      <td>None</td>\n      <td>459.4577</td>\n      <td>24.4788</td>\n      <td>17.7381</td>\n    </tr>\n    <tr>\n      <th>1</th>\n      <td>7 Eleven</td>\n      <td>289.9115</td>\n      <td>14.1728</td>\n      <td>9.8063</td>\n    </tr>\n    <tr>\n      <th>2</th>\n      <td>Applebee's</td>\n      <td>535.8140</td>\n      <td>29.0960</td>\n      <td>23.8558</td>\n    </tr>\n    <tr>\n      <th>3</th>\n      <td>Arby's</td>\n      <td>347.4370</td>\n      <td>15.9087</td>\n      <td>13.2212</td>\n    </tr>\n    <tr>\n      <th>4</th>\n      <td>Auntie Anne's</td>\n      <td>275.5607</td>\n      <td>5.2865</td>\n      <td>4.4921</td>\n    </tr>\n    <tr>\n      <th>...</th>\n      <td>...</td>\n      <td>...</td>\n      <td>...</td>\n      <td>...</td>\n    </tr>\n    <tr>\n      <th>92</th>\n      <td>Whataburger</td>\n      <td>434.8670</td>\n      <td>18.6071</td>\n      <td>13.5658</td>\n    </tr>\n    <tr>\n      <th>93</th>\n      <td>White Castle</td>\n      <td>378.2370</td>\n      <td>13.7935</td>\n      <td>8.1544</td>\n    </tr>\n    <tr>\n      <th>94</th>\n      <td>Wingstop</td>\n      <td>220.3913</td>\n      <td>11.6316</td>\n      <td>12.3684</td>\n    </tr>\n    <tr>\n      <th>95</th>\n      <td>Yard House</td>\n      <td>697.2137</td>\n      <td>40.0058</td>\n      <td>30.8827</td>\n    </tr>\n    <tr>\n      <th>96</th>\n      <td>Zaxby's</td>\n      <td>435.8547</td>\n      <td>29.8580</td>\n      <td>21.9276</td>\n    </tr>\n  </tbody>\n</table>\n<p>97 rows × 4 columns</p>\n</div>"
     },
     "metadata": {},
     "output_type": "display_data"
    }
   ],
   "source": [
    "sql_execute_show(conn, sql = '''\n",
    "SELECT b.r_name, AVG(calories), AVG(total_fat), AVG(Protein)\n",
    "FROM menu_cstore.nutrition_facts a\n",
    "LEFT JOIN menu_cstore.restaurant b ON a.r_id = b.r_id\n",
    "GROUP BY b.r_name\n",
    ";\n",
    "''')"
   ],
   "metadata": {
    "collapsed": false,
    "pycharm": {
     "name": "#%%\n"
    }
   }
  },
  {
   "cell_type": "code",
   "execution_count": 17,
   "outputs": [],
   "source": [
    "conn.close()\n"
   ],
   "metadata": {
    "collapsed": false,
    "pycharm": {
     "name": "#%%\n"
    }
   }
  },
  {
   "cell_type": "code",
   "execution_count": null,
   "outputs": [],
   "source": [],
   "metadata": {
    "collapsed": false,
    "pycharm": {
     "name": "#%%\n"
    }
   }
  }
 ],
 "metadata": {
  "kernelspec": {
   "display_name": "Python 3",
   "language": "python",
   "name": "python3"
  },
  "language_info": {
   "codemirror_mode": {
    "name": "ipython",
    "version": 2
   },
   "file_extension": ".py",
   "mimetype": "text/x-python",
   "name": "python",
   "nbconvert_exporter": "python",
   "pygments_lexer": "ipython2",
   "version": "2.7.6"
  }
 },
 "nbformat": 4,
 "nbformat_minor": 0
}