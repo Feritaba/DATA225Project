{
 "cells": [
  {
   "cell_type": "markdown",
   "metadata": {
    "collapsed": true,
    "pycharm": {
     "name": "#%% md\n"
    }
   },
   "source": [
    "# SQLite Python: Inserting Data\n",
    "Reference: https://www.sqlitetutorial.net/sqlite-python/"
   ]
  },
  {
   "cell_type": "code",
   "execution_count": null,
   "outputs": [],
   "source": [
    "import pandas as pd\n",
    "import sqlite3\n",
    "import sqlalchemy\n",
    "from IPython.display import display"
   ],
   "metadata": {
    "collapsed": false,
    "pycharm": {
     "name": "#%%\n"
    }
   }
  },
  {
   "cell_type": "markdown",
   "source": [
    "### Create a new SQLite database\n",
    "If there is the menu_data.db file, then this function will connect to the database.\n",
    "If the menu_data.db file doesn't exist, then this function will create a new database file.\n"
   ],
   "metadata": {
    "collapsed": false,
    "pycharm": {
     "name": "#%% md\n"
    }
   }
  },
  {
   "cell_type": "code",
   "execution_count": null,
   "outputs": [],
   "source": [
    "def create_sqlite_database(db_file):\n",
    "    \"\"\" create a database connection to a SQLite database \"\"\"\n",
    "    conn = None\n",
    "    try:\n",
    "        conn = sqlite3.connect(db_file)\n",
    "        print(db_file, \"connected/created successfully\")\n",
    "        print(\"SQLite version:\", sqlite3.version)\n",
    "    except sqlite3.Error as e:\n",
    "        print(e)\n",
    "    finally:\n",
    "        if conn:\n",
    "            conn.close()\n",
    "\n",
    "if __name__ == '__main__':\n",
    "    create_sqlite_database(r\"menu_data.db\")"
   ],
   "metadata": {
    "collapsed": false,
    "pycharm": {
     "name": "#%%\n"
    }
   }
  },
  {
   "cell_type": "markdown",
   "source": [
    "### Use the create_connection function, the create_table function, and the main function\n",
    "### to create tables, define attribute domains, and define constrains\n",
    "Note that, tables are defined and created, don't have to run this chunk of code"
   ],
   "metadata": {
    "collapsed": false
   }
  },
  {
   "cell_type": "code",
   "execution_count": null,
   "outputs": [],
   "source": [
    "def create_connection(db_file):\n",
    "    \"\"\" create a database connection to the SQLite database\n",
    "        specified by db_file\n",
    "    :param db_file: database file\n",
    "    :return: Connection object or None\n",
    "    \"\"\"\n",
    "    conn = None\n",
    "    try:\n",
    "        conn = sqlite3.connect(db_file)\n",
    "        return conn\n",
    "    except sqlite3.Error as e:\n",
    "        print(e)\n",
    "\n",
    "    return conn\n",
    "\n",
    "def create_table(conn, create_table_sql):\n",
    "    \"\"\" create a table from the create_table_sql statement\n",
    "    :param conn: Connection object\n",
    "    :param create_table_sql: a CREATE TABLE statement\n",
    "    :return:\n",
    "    \"\"\"\n",
    "    try:\n",
    "        c = conn.cursor()\n",
    "        c.execute(create_table_sql)\n",
    "    except sqlite3.Error as e:\n",
    "        print(e)\n",
    "\n",
    "### Create the main function to create tables\n",
    "def main():\n",
    "    sql_create_restaurant_table = \"\"\" CREATE TABLE IF NOT EXISTS restaurant (\n",
    "                                        r_id integer PRIMARY KEY,\n",
    "                                        r_name text NOT NULL\n",
    "                                    ); \"\"\"\n",
    "\n",
    "    sql_create_food_category_table = \"\"\"CREATE TABLE IF NOT EXISTS food_category (\n",
    "                                    cat_id integer PRIMARY KEY,\n",
    "                                    cat_name text NOT NULL\n",
    "                                );\"\"\"\n",
    "\n",
    "    sql_create_item_info_table = \"\"\"CREATE TABLE IF NOT EXISTS item_info (\n",
    "                                    item_id integer NOT NULL,\n",
    "                                    year integer NOT NULL,\n",
    "                                    item_name text NOT NULL,\n",
    "                                    item_description text,\n",
    "                                    PRIMARY KEY (item_id, year)\n",
    "                                );\"\"\"\n",
    "\n",
    "    sql_create_nutrition_facts_table = \"\"\"CREATE TABLE IF NOT EXISTS nutrition_facts (\n",
    "                                    item_id integer NOT NULL,\n",
    "                                    year integer NOT NULL,\n",
    "                                    r_id integer,\n",
    "                                    cat_id integer,\n",
    "                                    calories integer,\n",
    "                                    total_fat integer,\n",
    "                                    saturated_fat integer,\n",
    "                                    trans_fat integer,\n",
    "                                    cholesterol integer,\n",
    "                                    sodium integer,\n",
    "                                    potassium integer,\n",
    "                                    carbs integer,\n",
    "                                    protein integer,\n",
    "                                    sugar integer,\n",
    "                                    dietary_Fiber integer,\n",
    "                                    PRIMARY KEY (item_id, year),\n",
    "                                    FOREIGN KEY (item_id) REFERENCES item_info (item_id),\n",
    "                                    FOREIGN KEY (year) REFERENCES item_info (year),\n",
    "                                    FOREIGN KEY (r_id) REFERENCES restaurant (r_id),\n",
    "                                    FOREIGN KEY (cat_id) REFERENCES food_category (cat_id)\n",
    "                                );\"\"\"\n",
    "\n",
    "    sql_create_combo_facts_table = \"\"\"CREATE TABLE IF NOT EXISTS combo_facts (\n",
    "                                    combo_id integer NOT NULL,\n",
    "                                    item_id integer NOT NULL,\n",
    "                                    year integer NOT NULL,\n",
    "                                    cat_id integer,\n",
    "                                    builds text,\n",
    "                                    PRIMARY KEY (combo_id, item_id, year),\n",
    "                                    FOREIGN KEY (item_id) REFERENCES item_info (item_id),\n",
    "                                    FOREIGN KEY (year) REFERENCES item_info (year),\n",
    "                                    FOREIGN KEY (cat_id) REFERENCES food_category (cat_id)\n",
    "                                );\"\"\"\n",
    "\n",
    "    # create a database connection\n",
    "    conn = create_connection(r\"menu_data.db\")\n",
    "\n",
    "    # create tables\n",
    "    if conn is not None:\n",
    "        # create tables\n",
    "        try:\n",
    "            create_table(conn, sql_create_restaurant_table)\n",
    "            create_table(conn, sql_create_food_category_table)\n",
    "            create_table(conn, sql_create_item_info_table)\n",
    "            create_table(conn, sql_create_nutrition_facts_table)\n",
    "            create_table(conn, sql_create_combo_facts_table)\n",
    "        except:\n",
    "            print(\"Error! cannot create the database connection.\")\n",
    "        finally:\n",
    "            if conn:\n",
    "                conn.close()\n",
    "\n",
    "if __name__ == '__main__':\n",
    "    main()"
   ],
   "metadata": {
    "collapsed": false,
    "pycharm": {
     "name": "#%%\n"
    }
   }
  },
  {
   "cell_type": "markdown",
   "source": [
    "### Testing: check tables"
   ],
   "metadata": {
    "collapsed": false
   }
  },
  {
   "cell_type": "code",
   "execution_count": null,
   "outputs": [],
   "source": [
    "conn = None\n",
    "sql = \"\"\"SELECT name FROM sqlite_master WHERE type='table';\"\"\"\n",
    "sql2 = \"\"\"SELECT sql\n",
    "        FROM sqlite_master\n",
    "        WHERE name = 'nutrition_facts'\"\"\"\n",
    "try:\n",
    "    conn = sqlite3.connect(r\"menu_data.db\")\n",
    "    if conn is not None:\n",
    "        cursor = conn.cursor()\n",
    "        cursor.execute(sql)\n",
    "        print(cursor.fetchall())\n",
    "        cursor.close()\n",
    "        conn.close()\n",
    "except sqlite3.Error as e:\n",
    "    print(e)"
   ],
   "metadata": {
    "collapsed": false,
    "pycharm": {
     "name": "#%%\n"
    }
   }
  },
  {
   "cell_type": "markdown",
   "source": [
    "# Exporting pandas DataFrames into SQLite with SQLAlchemy, Appending DataFrame to DB Tables\n",
    "Reference: https://www.fullstackpython.com/blog/export-pandas-dataframes-sqlite-sqlalchemy.html"
   ],
   "metadata": {
    "collapsed": false
   }
  },
  {
   "cell_type": "code",
   "execution_count": null,
   "outputs": [],
   "source": [
    "def append_table(db_file, tbl_name, pd_df):\n",
    "    \"\"\"\n",
    "    Use SQLAlchemy to append pandas dataframe to the target table in the SQLite db\n",
    "    :param db_file: SQLite db file name\n",
    "    :param tbl_name: SQLite db table name, target table\n",
    "    :param pd_df: Pandas dataframe name, the exporting df\n",
    "    :return:\n",
    "    \"\"\"\n",
    "    db_path = 'sqlite:///' + db_file\n",
    "    engine = sqlalchemy.create_engine(db_path, echo=True)\n",
    "    sqlite_connection = engine.connect()\n",
    "    sqlite_table = tbl_name\n",
    "    pd_df.to_sql(sqlite_table, sqlite_connection, if_exists='append', index = False)"
   ],
   "metadata": {
    "collapsed": false,
    "pycharm": {
     "name": "#%%\n"
    }
   }
  },
  {
   "cell_type": "code",
   "execution_count": null,
   "outputs": [],
   "source": [
    "append_table(db_file=\"menu_data.db\", tbl_name=\"combo_facts\", pd_df=combo_facts)"
   ],
   "metadata": {
    "collapsed": false,
    "pycharm": {
     "name": "#%%\n"
    }
   }
  },
  {
   "cell_type": "markdown",
   "source": [
    "## The query_as_df function is used to display the SQL query result table"
   ],
   "metadata": {
    "collapsed": false
   }
  },
  {
   "cell_type": "code",
   "execution_count": 5,
   "outputs": [],
   "source": [
    "def query_as_df(db_file, sql):\n",
    "    \"\"\"\n",
    "    Display SQLite db query results as a pandas df\n",
    "    :param db_file: SQLite db file name\n",
    "    :param sql: the sql query in this form '''query'''\n",
    "    :return:\n",
    "    \"\"\"\n",
    "    conn = None\n",
    "    try:\n",
    "        conn = sqlite3.connect(db_file)\n",
    "        if conn is not None:\n",
    "            df = pd.read_sql(sql, con = conn)\n",
    "            conn.close()\n",
    "    except sqlite3.Error as e:\n",
    "        print(e)\n",
    "    display(df)"
   ],
   "metadata": {
    "collapsed": false,
    "pycharm": {
     "name": "#%%\n"
    }
   }
  },
  {
   "cell_type": "code",
   "execution_count": 8,
   "outputs": [
    {
     "data": {
      "text/plain": "    cat_id                cat_name\n0        0      Appetizers & Sides\n1        1             Baked Goods\n2        2               Beverages\n3        3                 Burgers\n4        4                Desserts\n5        5                 Entrees\n6        6          Fried Potatoes\n7        7                   Pizza\n8        8                  Salads\n9        9              Sandwiches\n10      10                    Soup\n11      11  Toppings & Ingredients",
      "text/html": "<div>\n<style scoped>\n    .dataframe tbody tr th:only-of-type {\n        vertical-align: middle;\n    }\n\n    .dataframe tbody tr th {\n        vertical-align: top;\n    }\n\n    .dataframe thead th {\n        text-align: right;\n    }\n</style>\n<table border=\"1\" class=\"dataframe\">\n  <thead>\n    <tr style=\"text-align: right;\">\n      <th></th>\n      <th>cat_id</th>\n      <th>cat_name</th>\n    </tr>\n  </thead>\n  <tbody>\n    <tr>\n      <th>0</th>\n      <td>0</td>\n      <td>Appetizers &amp; Sides</td>\n    </tr>\n    <tr>\n      <th>1</th>\n      <td>1</td>\n      <td>Baked Goods</td>\n    </tr>\n    <tr>\n      <th>2</th>\n      <td>2</td>\n      <td>Beverages</td>\n    </tr>\n    <tr>\n      <th>3</th>\n      <td>3</td>\n      <td>Burgers</td>\n    </tr>\n    <tr>\n      <th>4</th>\n      <td>4</td>\n      <td>Desserts</td>\n    </tr>\n    <tr>\n      <th>5</th>\n      <td>5</td>\n      <td>Entrees</td>\n    </tr>\n    <tr>\n      <th>6</th>\n      <td>6</td>\n      <td>Fried Potatoes</td>\n    </tr>\n    <tr>\n      <th>7</th>\n      <td>7</td>\n      <td>Pizza</td>\n    </tr>\n    <tr>\n      <th>8</th>\n      <td>8</td>\n      <td>Salads</td>\n    </tr>\n    <tr>\n      <th>9</th>\n      <td>9</td>\n      <td>Sandwiches</td>\n    </tr>\n    <tr>\n      <th>10</th>\n      <td>10</td>\n      <td>Soup</td>\n    </tr>\n    <tr>\n      <th>11</th>\n      <td>11</td>\n      <td>Toppings &amp; Ingredients</td>\n    </tr>\n  </tbody>\n</table>\n</div>"
     },
     "metadata": {},
     "output_type": "display_data"
    }
   ],
   "source": [
    "### Testing database connection and the target table with imported data\n",
    "sql = '''\n",
    "SELECT * FROM food_category;\n",
    "'''\n",
    "query_as_df(\"menu_data.db\", sql)"
   ],
   "metadata": {
    "collapsed": false,
    "pycharm": {
     "name": "#%%\n"
    }
   }
  },
  {
   "cell_type": "code",
   "execution_count": null,
   "outputs": [],
   "source": [],
   "metadata": {
    "collapsed": false,
    "pycharm": {
     "name": "#%%\n"
    }
   }
  }
 ],
 "metadata": {
  "kernelspec": {
   "display_name": "Python 3",
   "language": "python",
   "name": "python3"
  },
  "language_info": {
   "codemirror_mode": {
    "name": "ipython",
    "version": 2
   },
   "file_extension": ".py",
   "mimetype": "text/x-python",
   "name": "python",
   "nbconvert_exporter": "python",
   "pygments_lexer": "ipython2",
   "version": "2.7.6"
  }
 },
 "nbformat": 4,
 "nbformat_minor": 0
}