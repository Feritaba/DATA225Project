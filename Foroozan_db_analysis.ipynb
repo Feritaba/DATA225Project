{
 "cells": [
  {
   "cell_type": "code",
   "execution_count": 443,
   "metadata": {},
   "outputs": [],
   "source": [
    "import pandas as pd\n",
    "from IPython.display import display\n",
    "import mysql.connector"
   ]
  },
  {
   "cell_type": "code",
   "execution_count": 444,
   "metadata": {},
   "outputs": [],
   "source": [
    "def create_connection():\n",
    "    conn = None\n",
    "    try:\n",
    "       conn = mysql.connector.connect(\n",
    "          user=\"DB00004175\",\n",
    "          password=\"tTNlXEirHh)EmwXhtp4koTR\",\n",
    "          host=\"menu-data-db.mdb0002067.db.skysql.net\",\n",
    "          ssl_ca=\"skysql_chain.pem\",\n",
    "          port=5001)\n",
    "       conn.autocommit = False\n",
    "       return conn\n",
    "    except mysql.connector.Error as e:\n",
    "       print(f\"Error connecting to MariaDB Platform: {e}\")\n",
    "    return conn\n",
    "conn = create_connection()"
   ]
  },
  {
   "cell_type": "code",
   "execution_count": 445,
   "metadata": {},
   "outputs": [],
   "source": [
    "def sql_execute(conn, sql):\n",
    "\n",
    "    try:\n",
    "        cur = conn.cursor()\n",
    "        cur.execute(sql, multi=True)\n",
    "        conn.commit()\n",
    "    except mysql.connector.Error as e:\n",
    "        print(e)"
   ]
  },
  {
   "cell_type": "code",
   "execution_count": 446,
   "metadata": {},
   "outputs": [],
   "source": [
    "def sql_execute_show(conn, sql):\n",
    "\n",
    "    try:\n",
    "        df = pd.read_sql(sql, con = conn)\n",
    "        display(df)\n",
    "    except mysql.connector.Error as e:\n",
    "        print(e)"
   ]
  },
  {
   "cell_type": "code",
   "execution_count": 447,
   "metadata": {},
   "outputs": [],
   "source": [
    "from matplotlib import pyplot as plt\n"
   ]
  },
  {
   "cell_type": "markdown",
   "metadata": {},
   "source": [
    "# 1. What type of food has the highest average of calories?"
   ]
  },
  {
   "cell_type": "code",
   "execution_count": 448,
   "metadata": {},
   "outputs": [
    {
     "data": {
      "text/html": [
       "<div>\n",
       "<style scoped>\n",
       "    .dataframe tbody tr th:only-of-type {\n",
       "        vertical-align: middle;\n",
       "    }\n",
       "\n",
       "    .dataframe tbody tr th {\n",
       "        vertical-align: top;\n",
       "    }\n",
       "\n",
       "    .dataframe thead th {\n",
       "        text-align: right;\n",
       "    }\n",
       "</style>\n",
       "<table border=\"1\" class=\"dataframe\">\n",
       "  <thead>\n",
       "    <tr style=\"text-align: right;\">\n",
       "      <th></th>\n",
       "      <th>cat_name</th>\n",
       "      <th>cat_id</th>\n",
       "      <th>avg_cal</th>\n",
       "    </tr>\n",
       "  </thead>\n",
       "  <tbody>\n",
       "    <tr>\n",
       "      <th>0</th>\n",
       "      <td>Burgers</td>\n",
       "      <td>3</td>\n",
       "      <td>737.9365</td>\n",
       "    </tr>\n",
       "    <tr>\n",
       "      <th>1</th>\n",
       "      <td>Entrees</td>\n",
       "      <td>5</td>\n",
       "      <td>674.4843</td>\n",
       "    </tr>\n",
       "    <tr>\n",
       "      <th>2</th>\n",
       "      <td>Sandwiches</td>\n",
       "      <td>9</td>\n",
       "      <td>640.4563</td>\n",
       "    </tr>\n",
       "    <tr>\n",
       "      <th>3</th>\n",
       "      <td>Desserts</td>\n",
       "      <td>4</td>\n",
       "      <td>535.3693</td>\n",
       "    </tr>\n",
       "    <tr>\n",
       "      <th>4</th>\n",
       "      <td>Salads</td>\n",
       "      <td>8</td>\n",
       "      <td>491.7148</td>\n",
       "    </tr>\n",
       "    <tr>\n",
       "      <th>5</th>\n",
       "      <td>Fried Potatoes</td>\n",
       "      <td>6</td>\n",
       "      <td>474.8087</td>\n",
       "    </tr>\n",
       "    <tr>\n",
       "      <th>6</th>\n",
       "      <td>Appetizers &amp; Sides</td>\n",
       "      <td>0</td>\n",
       "      <td>452.5349</td>\n",
       "    </tr>\n",
       "    <tr>\n",
       "      <th>7</th>\n",
       "      <td>Pizza</td>\n",
       "      <td>7</td>\n",
       "      <td>375.2979</td>\n",
       "    </tr>\n",
       "    <tr>\n",
       "      <th>8</th>\n",
       "      <td>Baked Goods</td>\n",
       "      <td>1</td>\n",
       "      <td>320.5402</td>\n",
       "    </tr>\n",
       "    <tr>\n",
       "      <th>9</th>\n",
       "      <td>Soup</td>\n",
       "      <td>10</td>\n",
       "      <td>293.3740</td>\n",
       "    </tr>\n",
       "    <tr>\n",
       "      <th>10</th>\n",
       "      <td>Beverages</td>\n",
       "      <td>2</td>\n",
       "      <td>277.8308</td>\n",
       "    </tr>\n",
       "    <tr>\n",
       "      <th>11</th>\n",
       "      <td>Toppings &amp; Ingredients</td>\n",
       "      <td>11</td>\n",
       "      <td>125.0382</td>\n",
       "    </tr>\n",
       "  </tbody>\n",
       "</table>\n",
       "</div>"
      ],
      "text/plain": [
       "                  cat_name  cat_id   avg_cal\n",
       "0                  Burgers       3  737.9365\n",
       "1                  Entrees       5  674.4843\n",
       "2               Sandwiches       9  640.4563\n",
       "3                 Desserts       4  535.3693\n",
       "4                   Salads       8  491.7148\n",
       "5           Fried Potatoes       6  474.8087\n",
       "6       Appetizers & Sides       0  452.5349\n",
       "7                    Pizza       7  375.2979\n",
       "8              Baked Goods       1  320.5402\n",
       "9                     Soup      10  293.3740\n",
       "10               Beverages       2  277.8308\n",
       "11  Toppings & Ingredients      11  125.0382"
      ]
     },
     "metadata": {},
     "output_type": "display_data"
    }
   ],
   "source": [
    "sql_query1 = sql_execute_show(conn, sql = '''\n",
    "\n",
    "SELECT fc.cat_name, nf.cat_id, AVG(calories) avg_cal\n",
    "        FROM menu_cstore.nutrition_facts nf\n",
    "        LEFT JOIN menu_cstore.food_category fc ON nf.cat_id = fc.cat_id\n",
    "        GROUP BY fc.cat_name\n",
    "        order by avg_cal desc\n",
    "''')"
   ]
  },
  {
   "cell_type": "code",
   "execution_count": 450,
   "metadata": {},
   "outputs": [],
   "source": [
    "sql_query1 = pd.read_sql(con = conn, sql = '''\n",
    "\n",
    "SELECT fc.cat_name, nf.cat_id, AVG(calories) avg_cal\n",
    "        FROM menu_cstore.nutrition_facts nf\n",
    "        LEFT JOIN menu_cstore.food_category fc ON nf.cat_id = fc.cat_id\n",
    "        GROUP BY fc.cat_name\n",
    "        order by avg_cal desc\n",
    "''')"
   ]
  },
  {
   "cell_type": "code",
   "execution_count": 469,
   "metadata": {},
   "outputs": [
    {
     "data": {
      "image/png": "[encoded data removed]",
      "text/plain": [
       "<Figure size 432x288 with 1 Axes>"
      ]
     },
     "metadata": {
      "needs_background": "light"
     },
     "output_type": "display_data"
    }
   ],
   "source": [
    "plt.barh(sql_query1['cat_name'], sql_query1['avg_cal'], color=['red','red', 'red', 'grey', 'grey',\n",
    "                                                               'grey', 'grey', 'grey', 'grey', 'grey',\n",
    "                                                               'grey', 'grey']);"
   ]
  },
  {
   "cell_type": "markdown",
   "metadata": {},
   "source": [
    "# 2. What type of food has the highest average of cholestrol?"
   ]
  },
  {
   "cell_type": "code",
   "execution_count": 460,
   "metadata": {},
   "outputs": [
    {
     "data": {
      "text/html": [
       "<div>\n",
       "<style scoped>\n",
       "    .dataframe tbody tr th:only-of-type {\n",
       "        vertical-align: middle;\n",
       "    }\n",
       "\n",
       "    .dataframe tbody tr th {\n",
       "        vertical-align: top;\n",
       "    }\n",
       "\n",
       "    .dataframe thead th {\n",
       "        text-align: right;\n",
       "    }\n",
       "</style>\n",
       "<table border=\"1\" class=\"dataframe\">\n",
       "  <thead>\n",
       "    <tr style=\"text-align: right;\">\n",
       "      <th></th>\n",
       "      <th>cat_name</th>\n",
       "      <th>avg_chol</th>\n",
       "    </tr>\n",
       "  </thead>\n",
       "  <tbody>\n",
       "    <tr>\n",
       "      <th>0</th>\n",
       "      <td>Entrees</td>\n",
       "      <td>175.5359</td>\n",
       "    </tr>\n",
       "    <tr>\n",
       "      <th>1</th>\n",
       "      <td>Burgers</td>\n",
       "      <td>108.5269</td>\n",
       "    </tr>\n",
       "    <tr>\n",
       "      <th>2</th>\n",
       "      <td>Sandwiches</td>\n",
       "      <td>107.2060</td>\n",
       "    </tr>\n",
       "    <tr>\n",
       "      <th>3</th>\n",
       "      <td>Salads</td>\n",
       "      <td>86.5368</td>\n",
       "    </tr>\n",
       "    <tr>\n",
       "      <th>4</th>\n",
       "      <td>Appetizers &amp; Sides</td>\n",
       "      <td>77.2685</td>\n",
       "    </tr>\n",
       "    <tr>\n",
       "      <th>5</th>\n",
       "      <td>Desserts</td>\n",
       "      <td>70.7206</td>\n",
       "    </tr>\n",
       "    <tr>\n",
       "      <th>6</th>\n",
       "      <td>Soup</td>\n",
       "      <td>45.8194</td>\n",
       "    </tr>\n",
       "    <tr>\n",
       "      <th>7</th>\n",
       "      <td>Pizza</td>\n",
       "      <td>42.5097</td>\n",
       "    </tr>\n",
       "    <tr>\n",
       "      <th>8</th>\n",
       "      <td>Beverages</td>\n",
       "      <td>18.5630</td>\n",
       "    </tr>\n",
       "    <tr>\n",
       "      <th>9</th>\n",
       "      <td>Toppings &amp; Ingredients</td>\n",
       "      <td>17.7580</td>\n",
       "    </tr>\n",
       "    <tr>\n",
       "      <th>10</th>\n",
       "      <td>Baked Goods</td>\n",
       "      <td>14.9791</td>\n",
       "    </tr>\n",
       "    <tr>\n",
       "      <th>11</th>\n",
       "      <td>Fried Potatoes</td>\n",
       "      <td>13.7474</td>\n",
       "    </tr>\n",
       "  </tbody>\n",
       "</table>\n",
       "</div>"
      ],
      "text/plain": [
       "                  cat_name  avg_chol\n",
       "0                  Entrees  175.5359\n",
       "1                  Burgers  108.5269\n",
       "2               Sandwiches  107.2060\n",
       "3                   Salads   86.5368\n",
       "4       Appetizers & Sides   77.2685\n",
       "5                 Desserts   70.7206\n",
       "6                     Soup   45.8194\n",
       "7                    Pizza   42.5097\n",
       "8                Beverages   18.5630\n",
       "9   Toppings & Ingredients   17.7580\n",
       "10             Baked Goods   14.9791\n",
       "11          Fried Potatoes   13.7474"
      ]
     },
     "metadata": {},
     "output_type": "display_data"
    }
   ],
   "source": [
    "sql_execute_show(conn, sql = '''\n",
    "\n",
    "SELECT fc.cat_name, avg(cholesterol) avg_chol\n",
    "        FROM menu_cstore.nutrition_facts nf\n",
    "        LEFT JOIN menu_cstore.food_category fc ON nf.cat_id = fc.cat_id\n",
    "        GROUP BY fc.cat_name\n",
    "        order by avg_chol desc\n",
    ";\n",
    "''')"
   ]
  },
  {
   "cell_type": "code",
   "execution_count": 461,
   "metadata": {},
   "outputs": [],
   "source": [
    "sql_query2 = pd.read_sql(con = conn, sql = '''\n",
    "\n",
    "SELECT fc.cat_name, avg(cholesterol) avg_chol\n",
    "        FROM menu_cstore.nutrition_facts nf\n",
    "        LEFT JOIN menu_cstore.food_category fc ON nf.cat_id = fc.cat_id\n",
    "        GROUP BY fc.cat_name\n",
    "        order by avg_chol desc\n",
    ";\n",
    "''')"
   ]
  },
  {
   "cell_type": "code",
   "execution_count": 468,
   "metadata": {},
   "outputs": [
    {
     "data": {
      "image/png": "[encoded data removed]",
      "text/plain": [
       "<Figure size 432x288 with 1 Axes>"
      ]
     },
     "metadata": {
      "needs_background": "light"
     },
     "output_type": "display_data"
    }
   ],
   "source": [
    "plt.barh(sql_query2['cat_name'], sql_query2['avg_chol'], color=['red','red', 'red', 'grey', 'grey',\n",
    "                                                               'grey', 'grey', 'grey', 'grey', 'grey',\n",
    "                                                               'grey', 'grey']);"
   ]
  },
  {
   "cell_type": "markdown",
   "metadata": {},
   "source": [
    "# 3. What type of food has the highest average of total fat?"
   ]
  },
  {
   "cell_type": "code",
   "execution_count": 463,
   "metadata": {},
   "outputs": [
    {
     "data": {
      "text/html": [
       "<div>\n",
       "<style scoped>\n",
       "    .dataframe tbody tr th:only-of-type {\n",
       "        vertical-align: middle;\n",
       "    }\n",
       "\n",
       "    .dataframe tbody tr th {\n",
       "        vertical-align: top;\n",
       "    }\n",
       "\n",
       "    .dataframe thead th {\n",
       "        text-align: right;\n",
       "    }\n",
       "</style>\n",
       "<table border=\"1\" class=\"dataframe\">\n",
       "  <thead>\n",
       "    <tr style=\"text-align: right;\">\n",
       "      <th></th>\n",
       "      <th>cat_name</th>\n",
       "      <th>avg_total_fat</th>\n",
       "    </tr>\n",
       "  </thead>\n",
       "  <tbody>\n",
       "    <tr>\n",
       "      <th>0</th>\n",
       "      <td>Burgers</td>\n",
       "      <td>43.4009</td>\n",
       "    </tr>\n",
       "    <tr>\n",
       "      <th>1</th>\n",
       "      <td>Sandwiches</td>\n",
       "      <td>37.8436</td>\n",
       "    </tr>\n",
       "    <tr>\n",
       "      <th>2</th>\n",
       "      <td>Entrees</td>\n",
       "      <td>35.7465</td>\n",
       "    </tr>\n",
       "    <tr>\n",
       "      <th>3</th>\n",
       "      <td>Salads</td>\n",
       "      <td>31.2229</td>\n",
       "    </tr>\n",
       "    <tr>\n",
       "      <th>4</th>\n",
       "      <td>Fried Potatoes</td>\n",
       "      <td>27.9534</td>\n",
       "    </tr>\n",
       "    <tr>\n",
       "      <th>5</th>\n",
       "      <td>Appetizers &amp; Sides</td>\n",
       "      <td>26.5328</td>\n",
       "    </tr>\n",
       "    <tr>\n",
       "      <th>6</th>\n",
       "      <td>Desserts</td>\n",
       "      <td>25.8587</td>\n",
       "    </tr>\n",
       "    <tr>\n",
       "      <th>7</th>\n",
       "      <td>Pizza</td>\n",
       "      <td>18.9681</td>\n",
       "    </tr>\n",
       "    <tr>\n",
       "      <th>8</th>\n",
       "      <td>Soup</td>\n",
       "      <td>15.7107</td>\n",
       "    </tr>\n",
       "    <tr>\n",
       "      <th>9</th>\n",
       "      <td>Baked Goods</td>\n",
       "      <td>13.1416</td>\n",
       "    </tr>\n",
       "    <tr>\n",
       "      <th>10</th>\n",
       "      <td>Toppings &amp; Ingredients</td>\n",
       "      <td>8.3417</td>\n",
       "    </tr>\n",
       "    <tr>\n",
       "      <th>11</th>\n",
       "      <td>Beverages</td>\n",
       "      <td>6.2795</td>\n",
       "    </tr>\n",
       "  </tbody>\n",
       "</table>\n",
       "</div>"
      ],
      "text/plain": [
       "                  cat_name  avg_total_fat\n",
       "0                  Burgers        43.4009\n",
       "1               Sandwiches        37.8436\n",
       "2                  Entrees        35.7465\n",
       "3                   Salads        31.2229\n",
       "4           Fried Potatoes        27.9534\n",
       "5       Appetizers & Sides        26.5328\n",
       "6                 Desserts        25.8587\n",
       "7                    Pizza        18.9681\n",
       "8                     Soup        15.7107\n",
       "9              Baked Goods        13.1416\n",
       "10  Toppings & Ingredients         8.3417\n",
       "11               Beverages         6.2795"
      ]
     },
     "metadata": {},
     "output_type": "display_data"
    }
   ],
   "source": [
    "sql_execute_show(conn, sql = '''\n",
    "\n",
    "SELECT fc.cat_name, avg(total_fat) avg_total_fat\n",
    "        FROM menu_cstore.nutrition_facts nf\n",
    "        LEFT JOIN menu_cstore.food_category fc ON nf.cat_id = fc.cat_id\n",
    "        GROUP BY fc.cat_name\n",
    "        order by avg_total_fat desc\n",
    ";\n",
    "''')"
   ]
  },
  {
   "cell_type": "code",
   "execution_count": 464,
   "metadata": {},
   "outputs": [],
   "source": [
    "sql_query3 = pd.read_sql(con = conn, sql = '''\n",
    "\n",
    "SELECT fc.cat_name, avg(total_fat) avg_total_fat\n",
    "        FROM menu_cstore.nutrition_facts nf\n",
    "        LEFT JOIN menu_cstore.food_category fc ON nf.cat_id = fc.cat_id\n",
    "        GROUP BY fc.cat_name\n",
    "        order by avg_total_fat desc\n",
    ";\n",
    "''')"
   ]
  },
  {
   "cell_type": "code",
   "execution_count": 467,
   "metadata": {},
   "outputs": [
    {
     "data": {
      "image/png": "[encoded data removed]",
      "text/plain": [
       "<Figure size 432x288 with 1 Axes>"
      ]
     },
     "metadata": {
      "needs_background": "light"
     },
     "output_type": "display_data"
    }
   ],
   "source": [
    "plt.barh(sql_query3['cat_name'], sql_query3['avg_total_fat'], color=['red','red', 'red', 'grey', 'grey',\n",
    "                                                               'grey', 'grey', 'grey', 'grey', 'grey',\n",
    "                                                               'grey', 'grey']);"
   ]
  },
  {
   "cell_type": "markdown",
   "metadata": {},
   "source": [
    "# 4. Average daily sodium intake according to fda is 2300 mg. Which category has the highest average sodium?"
   ]
  },
  {
   "cell_type": "code",
   "execution_count": 405,
   "metadata": {},
   "outputs": [
    {
     "data": {
      "text/html": [
       "<div>\n",
       "<style scoped>\n",
       "    .dataframe tbody tr th:only-of-type {\n",
       "        vertical-align: middle;\n",
       "    }\n",
       "\n",
       "    .dataframe tbody tr th {\n",
       "        vertical-align: top;\n",
       "    }\n",
       "\n",
       "    .dataframe thead th {\n",
       "        text-align: right;\n",
       "    }\n",
       "</style>\n",
       "<table border=\"1\" class=\"dataframe\">\n",
       "  <thead>\n",
       "    <tr style=\"text-align: right;\">\n",
       "      <th></th>\n",
       "      <th>cat_name</th>\n",
       "      <th>cat_id</th>\n",
       "      <th>avg_sodium</th>\n",
       "    </tr>\n",
       "  </thead>\n",
       "  <tbody>\n",
       "    <tr>\n",
       "      <th>0</th>\n",
       "      <td>Sandwiches</td>\n",
       "      <td>9</td>\n",
       "      <td>1741.3864</td>\n",
       "    </tr>\n",
       "    <tr>\n",
       "      <th>1</th>\n",
       "      <td>Entrees</td>\n",
       "      <td>5</td>\n",
       "      <td>1522.4357</td>\n",
       "    </tr>\n",
       "    <tr>\n",
       "      <th>2</th>\n",
       "      <td>Burgers</td>\n",
       "      <td>3</td>\n",
       "      <td>1360.6340</td>\n",
       "    </tr>\n",
       "    <tr>\n",
       "      <th>3</th>\n",
       "      <td>Soup</td>\n",
       "      <td>10</td>\n",
       "      <td>1284.7896</td>\n",
       "    </tr>\n",
       "    <tr>\n",
       "      <th>4</th>\n",
       "      <td>Appetizers &amp; Sides</td>\n",
       "      <td>0</td>\n",
       "      <td>1135.5703</td>\n",
       "    </tr>\n",
       "    <tr>\n",
       "      <th>5</th>\n",
       "      <td>Salads</td>\n",
       "      <td>8</td>\n",
       "      <td>1066.0680</td>\n",
       "    </tr>\n",
       "    <tr>\n",
       "      <th>6</th>\n",
       "      <td>Pizza</td>\n",
       "      <td>7</td>\n",
       "      <td>894.3457</td>\n",
       "    </tr>\n",
       "    <tr>\n",
       "      <th>7</th>\n",
       "      <td>Fried Potatoes</td>\n",
       "      <td>6</td>\n",
       "      <td>846.6797</td>\n",
       "    </tr>\n",
       "    <tr>\n",
       "      <th>8</th>\n",
       "      <td>Baked Goods</td>\n",
       "      <td>1</td>\n",
       "      <td>431.0031</td>\n",
       "    </tr>\n",
       "    <tr>\n",
       "      <th>9</th>\n",
       "      <td>Desserts</td>\n",
       "      <td>4</td>\n",
       "      <td>300.7714</td>\n",
       "    </tr>\n",
       "    <tr>\n",
       "      <th>10</th>\n",
       "      <td>Toppings &amp; Ingredients</td>\n",
       "      <td>11</td>\n",
       "      <td>283.7959</td>\n",
       "    </tr>\n",
       "    <tr>\n",
       "      <th>11</th>\n",
       "      <td>Beverages</td>\n",
       "      <td>2</td>\n",
       "      <td>127.5020</td>\n",
       "    </tr>\n",
       "  </tbody>\n",
       "</table>\n",
       "</div>"
      ],
      "text/plain": [
       "                  cat_name  cat_id  avg_sodium\n",
       "0               Sandwiches       9   1741.3864\n",
       "1                  Entrees       5   1522.4357\n",
       "2                  Burgers       3   1360.6340\n",
       "3                     Soup      10   1284.7896\n",
       "4       Appetizers & Sides       0   1135.5703\n",
       "5                   Salads       8   1066.0680\n",
       "6                    Pizza       7    894.3457\n",
       "7           Fried Potatoes       6    846.6797\n",
       "8              Baked Goods       1    431.0031\n",
       "9                 Desserts       4    300.7714\n",
       "10  Toppings & Ingredients      11    283.7959\n",
       "11               Beverages       2    127.5020"
      ]
     },
     "metadata": {},
     "output_type": "display_data"
    }
   ],
   "source": [
    "sql_execute_show(conn, sql = '''\n",
    "\n",
    "SELECT fc.cat_name, nf.cat_id, avg(sodium) avg_sodium\n",
    "        FROM menu_cstore.nutrition_facts nf\n",
    "        LEFT JOIN menu_cstore.food_category fc ON nf.cat_id = fc.cat_id\n",
    "        GROUP BY fc.cat_name\n",
    "        order by avg_sodium desc\n",
    ";\n",
    "''')"
   ]
  },
  {
   "cell_type": "code",
   "execution_count": 470,
   "metadata": {},
   "outputs": [],
   "source": [
    "sql_query4 = pd.read_sql(con = conn, sql = '''\n",
    "\n",
    "SELECT fc.cat_name, nf.cat_id, avg(sodium) avg_sodium\n",
    "        FROM menu_cstore.nutrition_facts nf\n",
    "        LEFT JOIN menu_cstore.food_category fc ON nf.cat_id = fc.cat_id\n",
    "        GROUP BY fc.cat_name\n",
    "        order by avg_sodium desc\n",
    ";\n",
    "''')"
   ]
  },
  {
   "cell_type": "code",
   "execution_count": 471,
   "metadata": {},
   "outputs": [
    {
     "data": {
      "image/png": "[encoded data removed]",
      "text/plain": [
       "<Figure size 432x288 with 1 Axes>"
      ]
     },
     "metadata": {
      "needs_background": "light"
     },
     "output_type": "display_data"
    }
   ],
   "source": [
    "plt.barh(sql_query4['cat_name'], sql_query4['avg_sodium'], color=['red','red', 'red', 'grey', 'grey',\n",
    "                                                               'grey', 'grey', 'grey', 'grey', 'grey',\n",
    "                                                               'grey', 'grey']);"
   ]
  },
  {
   "cell_type": "code",
   "execution_count": null,
   "metadata": {},
   "outputs": [],
   "source": []
  },
  {
   "cell_type": "code",
   "execution_count": null,
   "metadata": {},
   "outputs": [],
   "source": []
  },
  {
   "cell_type": "markdown",
   "metadata": {},
   "source": [
    "# 1. Top 10 restaurants that have high-calorie burgers?"
   ]
  },
  {
   "cell_type": "code",
   "execution_count": 410,
   "metadata": {},
   "outputs": [
    {
     "data": {
      "text/html": [
       "<div>\n",
       "<style scoped>\n",
       "    .dataframe tbody tr th:only-of-type {\n",
       "        vertical-align: middle;\n",
       "    }\n",
       "\n",
       "    .dataframe tbody tr th {\n",
       "        vertical-align: top;\n",
       "    }\n",
       "\n",
       "    .dataframe thead th {\n",
       "        text-align: right;\n",
       "    }\n",
       "</style>\n",
       "<table border=\"1\" class=\"dataframe\">\n",
       "  <thead>\n",
       "    <tr style=\"text-align: right;\">\n",
       "      <th></th>\n",
       "      <th>r_id</th>\n",
       "      <th>r_name</th>\n",
       "      <th>item_name</th>\n",
       "      <th>avg_cal</th>\n",
       "    </tr>\n",
       "  </thead>\n",
       "  <tbody>\n",
       "    <tr>\n",
       "      <th>0</th>\n",
       "      <td>39</td>\n",
       "      <td>Hooters</td>\n",
       "      <td>Hooters Burger</td>\n",
       "      <td>1288.8462</td>\n",
       "    </tr>\n",
       "    <tr>\n",
       "      <th>1</th>\n",
       "      <td>8</td>\n",
       "      <td>Bonefish Grill</td>\n",
       "      <td>1/2 Pound Wagyu Beef Burger</td>\n",
       "      <td>1240.0000</td>\n",
       "    </tr>\n",
       "    <tr>\n",
       "      <th>2</th>\n",
       "      <td>78</td>\n",
       "      <td>Ruby Tuesday</td>\n",
       "      <td>Bacon Cheeseburger</td>\n",
       "      <td>1181.4507</td>\n",
       "    </tr>\n",
       "    <tr>\n",
       "      <th>3</th>\n",
       "      <td>4</td>\n",
       "      <td>BJ's Restaurant &amp; Brewhouse</td>\n",
       "      <td>4 Sliders</td>\n",
       "      <td>1122.4000</td>\n",
       "    </tr>\n",
       "    <tr>\n",
       "      <th>4</th>\n",
       "      <td>47</td>\n",
       "      <td>Joe's Crab Shack</td>\n",
       "      <td>Bacon Cheeseburger</td>\n",
       "      <td>1032.5000</td>\n",
       "    </tr>\n",
       "    <tr>\n",
       "      <th>5</th>\n",
       "      <td>35</td>\n",
       "      <td>Friendly's</td>\n",
       "      <td>Patty Melt</td>\n",
       "      <td>998.2553</td>\n",
       "    </tr>\n",
       "    <tr>\n",
       "      <th>6</th>\n",
       "      <td>91</td>\n",
       "      <td>Whataburger</td>\n",
       "      <td>Justaburger</td>\n",
       "      <td>993.1338</td>\n",
       "    </tr>\n",
       "    <tr>\n",
       "      <th>7</th>\n",
       "      <td>6</td>\n",
       "      <td>Bob Evans</td>\n",
       "      <td>Cheeseburger w/ French Fries, Kids</td>\n",
       "      <td>978.4615</td>\n",
       "    </tr>\n",
       "    <tr>\n",
       "      <th>8</th>\n",
       "      <td>26</td>\n",
       "      <td>Denny's</td>\n",
       "      <td>Double Cheeseburger</td>\n",
       "      <td>976.6667</td>\n",
       "    </tr>\n",
       "    <tr>\n",
       "      <th>9</th>\n",
       "      <td>87</td>\n",
       "      <td>The Capital Grille</td>\n",
       "      <td>Lobster &amp; Crab Burger</td>\n",
       "      <td>965.0000</td>\n",
       "    </tr>\n",
       "  </tbody>\n",
       "</table>\n",
       "</div>"
      ],
      "text/plain": [
       "   r_id                       r_name                           item_name  \\\n",
       "0    39                      Hooters                      Hooters Burger   \n",
       "1     8               Bonefish Grill         1/2 Pound Wagyu Beef Burger   \n",
       "2    78                 Ruby Tuesday                  Bacon Cheeseburger   \n",
       "3     4  BJ's Restaurant & Brewhouse                           4 Sliders   \n",
       "4    47             Joe's Crab Shack                  Bacon Cheeseburger   \n",
       "5    35                   Friendly's                          Patty Melt   \n",
       "6    91                  Whataburger                         Justaburger   \n",
       "7     6                    Bob Evans  Cheeseburger w/ French Fries, Kids   \n",
       "8    26                      Denny's                 Double Cheeseburger   \n",
       "9    87           The Capital Grille               Lobster & Crab Burger   \n",
       "\n",
       "     avg_cal  \n",
       "0  1288.8462  \n",
       "1  1240.0000  \n",
       "2  1181.4507  \n",
       "3  1122.4000  \n",
       "4  1032.5000  \n",
       "5   998.2553  \n",
       "6   993.1338  \n",
       "7   978.4615  \n",
       "8   976.6667  \n",
       "9   965.0000  "
      ]
     },
     "metadata": {},
     "output_type": "display_data"
    }
   ],
   "source": [
    "sql_execute_show(conn, sql = ''' select nf.r_id, r.r_name, ii.item_name, avg(calories) avg_cal\n",
    "from menu_cstore.item_info ii join menu_cstore.nutrition_facts nf join menu_cstore.restaurant r\n",
    "on nf.item_id = ii.item_id and r.r_id = nf.r_id\n",
    "where cat_id = 3 and nf.year = 2018\n",
    "group by r_id\n",
    "order by avg_cal desc limit 10\n",
    ";\n",
    "''')"
   ]
  },
  {
   "cell_type": "code",
   "execution_count": 476,
   "metadata": {},
   "outputs": [],
   "source": [
    "sql_query6 = pd.read_sql(con = conn, sql = '''\n",
    "\n",
    "select nf.r_id, r.r_name, ii.item_name, avg(calories) avg_cal\n",
    "from menu_cstore.item_info ii join menu_cstore.nutrition_facts nf join menu_cstore.restaurant r\n",
    "on nf.item_id = ii.item_id and r.r_id = nf.r_id\n",
    "where cat_id = 3 and nf.year = 2018\n",
    "group by r_id\n",
    "order by avg_cal desc limit 10\n",
    ";\n",
    "''')"
   ]
  },
  {
   "cell_type": "code",
   "execution_count": 478,
   "metadata": {},
   "outputs": [
    {
     "data": {
      "image/png": "[encoded data removed]",
      "text/plain": [
       "<Figure size 432x288 with 1 Axes>"
      ]
     },
     "metadata": {
      "needs_background": "light"
     },
     "output_type": "display_data"
    }
   ],
   "source": [
    "plt.barh(sql_query6['r_name'], sql_query6['avg_cal'], color=['red','red', 'red', 'grey', 'grey',\n",
    "                                                               'grey', 'grey', 'grey', 'grey', 'grey',\n",
    "                                                               'grey', 'grey']);"
   ]
  },
  {
   "cell_type": "markdown",
   "metadata": {},
   "source": [
    "# 2. Top 10 restaurants that have high cholestrol entrees?"
   ]
  },
  {
   "cell_type": "code",
   "execution_count": 483,
   "metadata": {},
   "outputs": [
    {
     "data": {
      "text/html": [
       "<div>\n",
       "<style scoped>\n",
       "    .dataframe tbody tr th:only-of-type {\n",
       "        vertical-align: middle;\n",
       "    }\n",
       "\n",
       "    .dataframe tbody tr th {\n",
       "        vertical-align: top;\n",
       "    }\n",
       "\n",
       "    .dataframe thead th {\n",
       "        text-align: right;\n",
       "    }\n",
       "</style>\n",
       "<table border=\"1\" class=\"dataframe\">\n",
       "  <thead>\n",
       "    <tr style=\"text-align: right;\">\n",
       "      <th></th>\n",
       "      <th>r_id</th>\n",
       "      <th>r_name</th>\n",
       "      <th>avg_chol</th>\n",
       "    </tr>\n",
       "  </thead>\n",
       "  <tbody>\n",
       "    <tr>\n",
       "      <th>0</th>\n",
       "      <td>59</td>\n",
       "      <td>O'Charley's</td>\n",
       "      <td>301.6667</td>\n",
       "    </tr>\n",
       "    <tr>\n",
       "      <th>1</th>\n",
       "      <td>32</td>\n",
       "      <td>Famous Dave's</td>\n",
       "      <td>297.6889</td>\n",
       "    </tr>\n",
       "    <tr>\n",
       "      <th>2</th>\n",
       "      <td>50</td>\n",
       "      <td>Krystal</td>\n",
       "      <td>294.0000</td>\n",
       "    </tr>\n",
       "    <tr>\n",
       "      <th>3</th>\n",
       "      <td>79</td>\n",
       "      <td>Sbarro</td>\n",
       "      <td>285.0980</td>\n",
       "    </tr>\n",
       "    <tr>\n",
       "      <th>4</th>\n",
       "      <td>47</td>\n",
       "      <td>Joe's Crab Shack</td>\n",
       "      <td>282.0290</td>\n",
       "    </tr>\n",
       "    <tr>\n",
       "      <th>5</th>\n",
       "      <td>68</td>\n",
       "      <td>Perkins</td>\n",
       "      <td>270.9048</td>\n",
       "    </tr>\n",
       "    <tr>\n",
       "      <th>6</th>\n",
       "      <td>95</td>\n",
       "      <td>Zaxby's</td>\n",
       "      <td>254.2453</td>\n",
       "    </tr>\n",
       "    <tr>\n",
       "      <th>7</th>\n",
       "      <td>6</td>\n",
       "      <td>Bob Evans</td>\n",
       "      <td>250.4965</td>\n",
       "    </tr>\n",
       "    <tr>\n",
       "      <th>8</th>\n",
       "      <td>27</td>\n",
       "      <td>Dickey's Barbeque Pit</td>\n",
       "      <td>235.1892</td>\n",
       "    </tr>\n",
       "    <tr>\n",
       "      <th>9</th>\n",
       "      <td>87</td>\n",
       "      <td>The Capital Grille</td>\n",
       "      <td>232.2727</td>\n",
       "    </tr>\n",
       "  </tbody>\n",
       "</table>\n",
       "</div>"
      ],
      "text/plain": [
       "   r_id                 r_name  avg_chol\n",
       "0    59            O'Charley's  301.6667\n",
       "1    32          Famous Dave's  297.6889\n",
       "2    50                Krystal  294.0000\n",
       "3    79                 Sbarro  285.0980\n",
       "4    47       Joe's Crab Shack  282.0290\n",
       "5    68                Perkins  270.9048\n",
       "6    95                Zaxby's  254.2453\n",
       "7     6              Bob Evans  250.4965\n",
       "8    27  Dickey's Barbeque Pit  235.1892\n",
       "9    87     The Capital Grille  232.2727"
      ]
     },
     "metadata": {},
     "output_type": "display_data"
    }
   ],
   "source": [
    "sql_execute_show(conn, sql = ''' select r.r_id, r.r_name, avg(cholesterol) avg_chol\n",
    "from menu_cstore.nutrition_facts nf join menu_cstore.restaurant r\n",
    "on r.r_id = nf.r_id\n",
    "where cat_id = 5 and nf.year = 2018\n",
    "group by r_id\n",
    "order by avg_chol desc limit 10\n",
    ";\n",
    "''')"
   ]
  },
  {
   "cell_type": "code",
   "execution_count": 486,
   "metadata": {},
   "outputs": [],
   "source": [
    "sql_query7 = pd.read_sql(con = conn, sql = '''\n",
    "\n",
    "select r.r_id, r.r_name, avg(cholesterol) avg_chol\n",
    "from menu_cstore.nutrition_facts nf join menu_cstore.restaurant r\n",
    "on r.r_id = nf.r_id\n",
    "where cat_id = 5 and nf.year = 2018\n",
    "group by r_id\n",
    "order by avg_chol desc limit 10\n",
    ";\n",
    "''')"
   ]
  },
  {
   "cell_type": "code",
   "execution_count": 487,
   "metadata": {},
   "outputs": [
    {
     "data": {
      "image/png": "[encoded data removed]",
      "text/plain": [
       "<Figure size 432x288 with 1 Axes>"
      ]
     },
     "metadata": {
      "needs_background": "light"
     },
     "output_type": "display_data"
    }
   ],
   "source": [
    "plt.barh(sql_query7['r_name'], sql_query7['avg_chol'], color=['red','red', 'red', 'grey', 'grey',\n",
    "                                                               'grey', 'grey', 'grey', 'grey', 'grey',\n",
    "                                                               'grey', 'grey']);"
   ]
  },
  {
   "cell_type": "markdown",
   "metadata": {},
   "source": [
    "# 3. Top 10 restaurants that have high total fat burgers?"
   ]
  },
  {
   "cell_type": "code",
   "execution_count": 490,
   "metadata": {},
   "outputs": [
    {
     "data": {
      "text/html": [
       "<div>\n",
       "<style scoped>\n",
       "    .dataframe tbody tr th:only-of-type {\n",
       "        vertical-align: middle;\n",
       "    }\n",
       "\n",
       "    .dataframe tbody tr th {\n",
       "        vertical-align: top;\n",
       "    }\n",
       "\n",
       "    .dataframe thead th {\n",
       "        text-align: right;\n",
       "    }\n",
       "</style>\n",
       "<table border=\"1\" class=\"dataframe\">\n",
       "  <thead>\n",
       "    <tr style=\"text-align: right;\">\n",
       "      <th></th>\n",
       "      <th>r_id</th>\n",
       "      <th>r_name</th>\n",
       "      <th>avg_total_fat</th>\n",
       "    </tr>\n",
       "  </thead>\n",
       "  <tbody>\n",
       "    <tr>\n",
       "      <th>0</th>\n",
       "      <td>8</td>\n",
       "      <td>Bonefish Grill</td>\n",
       "      <td>93.5000</td>\n",
       "    </tr>\n",
       "    <tr>\n",
       "      <th>1</th>\n",
       "      <td>47</td>\n",
       "      <td>Joe's Crab Shack</td>\n",
       "      <td>67.3333</td>\n",
       "    </tr>\n",
       "    <tr>\n",
       "      <th>2</th>\n",
       "      <td>87</td>\n",
       "      <td>The Capital Grille</td>\n",
       "      <td>66.5000</td>\n",
       "    </tr>\n",
       "    <tr>\n",
       "      <th>3</th>\n",
       "      <td>39</td>\n",
       "      <td>Hooters</td>\n",
       "      <td>65.7778</td>\n",
       "    </tr>\n",
       "    <tr>\n",
       "      <th>4</th>\n",
       "      <td>78</td>\n",
       "      <td>Ruby Tuesday</td>\n",
       "      <td>62.9231</td>\n",
       "    </tr>\n",
       "    <tr>\n",
       "      <th>5</th>\n",
       "      <td>4</td>\n",
       "      <td>BJ's Restaurant &amp; Brewhouse</td>\n",
       "      <td>61.7143</td>\n",
       "    </tr>\n",
       "    <tr>\n",
       "      <th>6</th>\n",
       "      <td>26</td>\n",
       "      <td>Denny's</td>\n",
       "      <td>60.8333</td>\n",
       "    </tr>\n",
       "    <tr>\n",
       "      <th>7</th>\n",
       "      <td>6</td>\n",
       "      <td>Bob Evans</td>\n",
       "      <td>59.8182</td>\n",
       "    </tr>\n",
       "    <tr>\n",
       "      <th>8</th>\n",
       "      <td>35</td>\n",
       "      <td>Friendly's</td>\n",
       "      <td>59.4878</td>\n",
       "    </tr>\n",
       "    <tr>\n",
       "      <th>9</th>\n",
       "      <td>40</td>\n",
       "      <td>IHOP</td>\n",
       "      <td>59.1429</td>\n",
       "    </tr>\n",
       "  </tbody>\n",
       "</table>\n",
       "</div>"
      ],
      "text/plain": [
       "   r_id                       r_name  avg_total_fat\n",
       "0     8               Bonefish Grill        93.5000\n",
       "1    47             Joe's Crab Shack        67.3333\n",
       "2    87           The Capital Grille        66.5000\n",
       "3    39                      Hooters        65.7778\n",
       "4    78                 Ruby Tuesday        62.9231\n",
       "5     4  BJ's Restaurant & Brewhouse        61.7143\n",
       "6    26                      Denny's        60.8333\n",
       "7     6                    Bob Evans        59.8182\n",
       "8    35                   Friendly's        59.4878\n",
       "9    40                         IHOP        59.1429"
      ]
     },
     "metadata": {},
     "output_type": "display_data"
    }
   ],
   "source": [
    "sql_execute_show(conn, sql = '''\n",
    "\n",
    "select r.r_id, r.r_name, avg(total_fat) avg_total_fat\n",
    "from menu_cstore.nutrition_facts nf join menu_cstore.restaurant r\n",
    "on r.r_id = nf.r_id\n",
    "where cat_id = 3 and nf.year = 2018\n",
    "group by r_id\n",
    "order by avg_total_fat desc limit 10\n",
    ";\n",
    "''')"
   ]
  },
  {
   "cell_type": "code",
   "execution_count": 491,
   "metadata": {},
   "outputs": [],
   "source": [
    "sql_query8 = pd.read_sql(con = conn, sql = '''\n",
    "\n",
    "select r.r_id, r.r_name, avg(total_fat) avg_total_fat\n",
    "from menu_cstore.nutrition_facts nf join menu_cstore.restaurant r\n",
    "on r.r_id = nf.r_id\n",
    "where cat_id = 3 and nf.year = 2018\n",
    "group by r_id\n",
    "order by avg_total_fat desc limit 10\n",
    ";\n",
    "''')"
   ]
  },
  {
   "cell_type": "code",
   "execution_count": 492,
   "metadata": {},
   "outputs": [
    {
     "data": {
      "image/png": "[encoded data removed]",
      "text/plain": [
       "<Figure size 432x288 with 1 Axes>"
      ]
     },
     "metadata": {
      "needs_background": "light"
     },
     "output_type": "display_data"
    }
   ],
   "source": [
    "plt.barh(sql_query8['r_name'], sql_query8['avg_total_fat'], color=['red','red', 'red', 'grey', 'grey',\n",
    "                                                               'grey', 'grey', 'grey', 'grey', 'grey',\n",
    "                                                               'grey', 'grey']);"
   ]
  },
  {
   "cell_type": "markdown",
   "metadata": {},
   "source": [
    "# 4. Top 10 restaurants that have high sodium sandwitches?"
   ]
  },
  {
   "cell_type": "code",
   "execution_count": 475,
   "metadata": {},
   "outputs": [
    {
     "data": {
      "text/html": [
       "<div>\n",
       "<style scoped>\n",
       "    .dataframe tbody tr th:only-of-type {\n",
       "        vertical-align: middle;\n",
       "    }\n",
       "\n",
       "    .dataframe tbody tr th {\n",
       "        vertical-align: top;\n",
       "    }\n",
       "\n",
       "    .dataframe thead th {\n",
       "        text-align: right;\n",
       "    }\n",
       "</style>\n",
       "<table border=\"1\" class=\"dataframe\">\n",
       "  <thead>\n",
       "    <tr style=\"text-align: right;\">\n",
       "      <th></th>\n",
       "      <th>r_id</th>\n",
       "      <th>r_name</th>\n",
       "      <th>avg_sodium</th>\n",
       "    </tr>\n",
       "  </thead>\n",
       "  <tbody>\n",
       "    <tr>\n",
       "      <th>0</th>\n",
       "      <td>78</td>\n",
       "      <td>Ruby Tuesday</td>\n",
       "      <td>3200.0000</td>\n",
       "    </tr>\n",
       "    <tr>\n",
       "      <th>1</th>\n",
       "      <td>40</td>\n",
       "      <td>IHOP</td>\n",
       "      <td>2702.5532</td>\n",
       "    </tr>\n",
       "    <tr>\n",
       "      <th>2</th>\n",
       "      <td>39</td>\n",
       "      <td>Hooters</td>\n",
       "      <td>2701.7647</td>\n",
       "    </tr>\n",
       "    <tr>\n",
       "      <th>3</th>\n",
       "      <td>63</td>\n",
       "      <td>PF Chang's</td>\n",
       "      <td>2420.0000</td>\n",
       "    </tr>\n",
       "    <tr>\n",
       "      <th>4</th>\n",
       "      <td>45</td>\n",
       "      <td>Jersey Mike's Subs</td>\n",
       "      <td>2402.0141</td>\n",
       "    </tr>\n",
       "    <tr>\n",
       "      <th>5</th>\n",
       "      <td>47</td>\n",
       "      <td>Joe's Crab Shack</td>\n",
       "      <td>2341.2500</td>\n",
       "    </tr>\n",
       "    <tr>\n",
       "      <th>6</th>\n",
       "      <td>68</td>\n",
       "      <td>Perkins</td>\n",
       "      <td>2246.9048</td>\n",
       "    </tr>\n",
       "    <tr>\n",
       "      <th>7</th>\n",
       "      <td>4</td>\n",
       "      <td>BJ's Restaurant &amp; Brewhouse</td>\n",
       "      <td>2244.6346</td>\n",
       "    </tr>\n",
       "    <tr>\n",
       "      <th>8</th>\n",
       "      <td>33</td>\n",
       "      <td>Firehouse Subs</td>\n",
       "      <td>2220.6926</td>\n",
       "    </tr>\n",
       "    <tr>\n",
       "      <th>9</th>\n",
       "      <td>66</td>\n",
       "      <td>Papa John's</td>\n",
       "      <td>2185.4545</td>\n",
       "    </tr>\n",
       "  </tbody>\n",
       "</table>\n",
       "</div>"
      ],
      "text/plain": [
       "   r_id                       r_name  avg_sodium\n",
       "0    78                 Ruby Tuesday   3200.0000\n",
       "1    40                         IHOP   2702.5532\n",
       "2    39                      Hooters   2701.7647\n",
       "3    63                   PF Chang's   2420.0000\n",
       "4    45           Jersey Mike's Subs   2402.0141\n",
       "5    47             Joe's Crab Shack   2341.2500\n",
       "6    68                      Perkins   2246.9048\n",
       "7     4  BJ's Restaurant & Brewhouse   2244.6346\n",
       "8    33               Firehouse Subs   2220.6926\n",
       "9    66                  Papa John's   2185.4545"
      ]
     },
     "metadata": {},
     "output_type": "display_data"
    }
   ],
   "source": [
    "sql_execute_show(conn, sql = ''' select nf.r_id, r.r_name, avg(sodium) avg_sodium\n",
    "from menu_cstore.item_info ii join menu_cstore.nutrition_facts nf join menu_cstore.restaurant r\n",
    "on nf.item_id = ii.item_id and r.r_id = nf.r_id\n",
    "where cat_id = 9 and nf.year = 2018\n",
    "group by r_id\n",
    "order by avg_sodium desc limit 10\n",
    ";\n",
    "''')"
   ]
  },
  {
   "cell_type": "code",
   "execution_count": 494,
   "metadata": {},
   "outputs": [],
   "source": [
    "sql_query9 = pd.read_sql(con = conn, sql = '''\n",
    "\n",
    "select nf.r_id, r.r_name, avg(sodium) avg_sodium\n",
    "from menu_cstore.item_info ii join menu_cstore.nutrition_facts nf join menu_cstore.restaurant r\n",
    "on nf.item_id = ii.item_id and r.r_id = nf.r_id\n",
    "where cat_id = 9 and nf.year = 2018\n",
    "group by r_id\n",
    "order by avg_sodium desc limit 10\n",
    ";\n",
    "''')"
   ]
  },
  {
   "cell_type": "code",
   "execution_count": 495,
   "metadata": {},
   "outputs": [
    {
     "data": {
      "image/png": "[encoded data removed]",
      "text/plain": [
       "<Figure size 432x288 with 1 Axes>"
      ]
     },
     "metadata": {
      "needs_background": "light"
     },
     "output_type": "display_data"
    }
   ],
   "source": [
    "plt.barh(sql_query9['r_name'], sql_query9['avg_sodium'], color=['red','red', 'red', 'grey', 'grey',\n",
    "                                                               'grey', 'grey', 'grey', 'grey', 'grey',\n",
    "                                                               'grey', 'grey']);"
   ]
  }
 ],
 "metadata": {
  "kernelspec": {
   "display_name": "Python 3",
   "language": "python",
   "name": "python3"
  },
  "language_info": {
   "codemirror_mode": {
    "name": "ipython",
    "version": 3
   },
   "file_extension": ".py",
   "mimetype": "text/x-python",
   "name": "python",
   "nbconvert_exporter": "python",
   "pygments_lexer": "ipython3",
   "version": "3.7.3"
  }
 },
 "nbformat": 4,
 "nbformat_minor": 2
}
