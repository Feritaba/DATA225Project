{
 "cells": [
  {
   "cell_type": "markdown",
   "source": [
    "# Organizing tables"
   ],
   "metadata": {
    "collapsed": false,
    "pycharm": {
     "name": "#%% md\n"
    }
   }
  },
  {
   "cell_type": "code",
   "execution_count": 213,
   "outputs": [],
   "source": [
    "import pandas as pd\n",
    "import collections"
   ],
   "metadata": {
    "collapsed": false,
    "pycharm": {
     "name": "#%%\n"
    }
   }
  },
  {
   "cell_type": "code",
   "execution_count": 214,
   "metadata": {
    "collapsed": true
   },
   "outputs": [
    {
     "name": "stderr",
     "output_type": "stream",
     "text": [
      "/Library/Frameworks/Python.framework/Versions/3.9/lib/python3.9/site-packages/IPython/core/interactiveshell.py:3146: DtypeWarning: Columns (9,35,36,37,39,40) have mixed types.Specify dtype option on import or set low_memory=False.\n",
      "  has_raised = await self.run_ast_nodes(code_ast.body, cell_name,\n"
     ]
    }
   ],
   "source": [
    "dat = pd.read_csv('Customizable_Annual_Data/Annual_Data2018.csv')"
   ]
  },
  {
   "cell_type": "code",
   "execution_count": 215,
   "outputs": [
    {
     "data": {
      "text/plain": "      r_id                       r_name\n2120     0                     7 Eleven\n4        1                   Applebee's\n1153     2                       Arby's\n4345     3                Auntie Anne's\n1817     4  BJ's Restaurant & Brewhouse\n...    ...                          ...\n1155    91                  Whataburger\n1482    92                 White Castle\n1524    93                     Wingstop\n1537    94                   Yard House\n5484    95                      Zaxby's\n\n[96 rows x 2 columns]",
      "text/html": "<div>\n<style scoped>\n    .dataframe tbody tr th:only-of-type {\n        vertical-align: middle;\n    }\n\n    .dataframe tbody tr th {\n        vertical-align: top;\n    }\n\n    .dataframe thead th {\n        text-align: right;\n    }\n</style>\n<table border=\"1\" class=\"dataframe\">\n  <thead>\n    <tr style=\"text-align: right;\">\n      <th></th>\n      <th>r_id</th>\n      <th>r_name</th>\n    </tr>\n  </thead>\n  <tbody>\n    <tr>\n      <th>2120</th>\n      <td>0</td>\n      <td>7 Eleven</td>\n    </tr>\n    <tr>\n      <th>4</th>\n      <td>1</td>\n      <td>Applebee's</td>\n    </tr>\n    <tr>\n      <th>1153</th>\n      <td>2</td>\n      <td>Arby's</td>\n    </tr>\n    <tr>\n      <th>4345</th>\n      <td>3</td>\n      <td>Auntie Anne's</td>\n    </tr>\n    <tr>\n      <th>1817</th>\n      <td>4</td>\n      <td>BJ's Restaurant &amp; Brewhouse</td>\n    </tr>\n    <tr>\n      <th>...</th>\n      <td>...</td>\n      <td>...</td>\n    </tr>\n    <tr>\n      <th>1155</th>\n      <td>91</td>\n      <td>Whataburger</td>\n    </tr>\n    <tr>\n      <th>1482</th>\n      <td>92</td>\n      <td>White Castle</td>\n    </tr>\n    <tr>\n      <th>1524</th>\n      <td>93</td>\n      <td>Wingstop</td>\n    </tr>\n    <tr>\n      <th>1537</th>\n      <td>94</td>\n      <td>Yard House</td>\n    </tr>\n    <tr>\n      <th>5484</th>\n      <td>95</td>\n      <td>Zaxby's</td>\n    </tr>\n  </tbody>\n</table>\n<p>96 rows × 2 columns</p>\n</div>"
     },
     "execution_count": 215,
     "metadata": {},
     "output_type": "execute_result"
    }
   ],
   "source": [
    "dat['r_id'] = dat.groupby(['Restaurant']).ngroup()\n",
    "restaurant = dat[['r_id', 'Restaurant']].drop_duplicates().sort_values(by=['r_id'])\n",
    "restaurant.rename(columns={'Restaurant':'r_name'}, inplace=True)\n",
    "restaurant"
   ],
   "metadata": {
    "collapsed": false,
    "pycharm": {
     "name": "#%%\n"
    }
   }
  },
  {
   "cell_type": "code",
   "execution_count": 216,
   "outputs": [
    {
     "data": {
      "text/plain": "     cat_id                cat_name\n12        0      Appetizers & Sides\n369       1             Baked Goods\n16        2               Beverages\n130       3                 Burgers\n263       4                Desserts\n0         5                 Entrees\n132       6          Fried Potatoes\n306       7                   Pizza\n32        8                  Salads\n1         9              Sandwiches\n4        10                    Soup\n3        11  Toppings & Ingredients",
      "text/html": "<div>\n<style scoped>\n    .dataframe tbody tr th:only-of-type {\n        vertical-align: middle;\n    }\n\n    .dataframe tbody tr th {\n        vertical-align: top;\n    }\n\n    .dataframe thead th {\n        text-align: right;\n    }\n</style>\n<table border=\"1\" class=\"dataframe\">\n  <thead>\n    <tr style=\"text-align: right;\">\n      <th></th>\n      <th>cat_id</th>\n      <th>cat_name</th>\n    </tr>\n  </thead>\n  <tbody>\n    <tr>\n      <th>12</th>\n      <td>0</td>\n      <td>Appetizers &amp; Sides</td>\n    </tr>\n    <tr>\n      <th>369</th>\n      <td>1</td>\n      <td>Baked Goods</td>\n    </tr>\n    <tr>\n      <th>16</th>\n      <td>2</td>\n      <td>Beverages</td>\n    </tr>\n    <tr>\n      <th>130</th>\n      <td>3</td>\n      <td>Burgers</td>\n    </tr>\n    <tr>\n      <th>263</th>\n      <td>4</td>\n      <td>Desserts</td>\n    </tr>\n    <tr>\n      <th>0</th>\n      <td>5</td>\n      <td>Entrees</td>\n    </tr>\n    <tr>\n      <th>132</th>\n      <td>6</td>\n      <td>Fried Potatoes</td>\n    </tr>\n    <tr>\n      <th>306</th>\n      <td>7</td>\n      <td>Pizza</td>\n    </tr>\n    <tr>\n      <th>32</th>\n      <td>8</td>\n      <td>Salads</td>\n    </tr>\n    <tr>\n      <th>1</th>\n      <td>9</td>\n      <td>Sandwiches</td>\n    </tr>\n    <tr>\n      <th>4</th>\n      <td>10</td>\n      <td>Soup</td>\n    </tr>\n    <tr>\n      <th>3</th>\n      <td>11</td>\n      <td>Toppings &amp; Ingredients</td>\n    </tr>\n  </tbody>\n</table>\n</div>"
     },
     "execution_count": 216,
     "metadata": {},
     "output_type": "execute_result"
    }
   ],
   "source": [
    "dat['cat_id'] = dat.groupby(['Food_Category']).ngroup()\n",
    "food_category = dat[['cat_id', 'Food_Category']].drop_duplicates().sort_values(by=['cat_id'])\n",
    "food_category.rename(columns={'Food_Category':'cat_name'}, inplace=True)\n",
    "food_category"
   ],
   "metadata": {
    "collapsed": false,
    "pycharm": {
     "name": "#%%\n"
    }
   }
  },
  {
   "cell_type": "code",
   "execution_count": 217,
   "outputs": [
    {
     "data": {
      "text/plain": "       item_id  year                                          item_name  \\\n0       100054  2018                                       Burrito Bowl   \n1       100057  2018                               Quesadilla Kids Meal   \n2       100060  2018                                            Burrito   \n3       100073  2018                            Flour Tortilla, 12.5 in   \n4        10012  2018                                  French Onion Soup   \n...        ...   ...                                                ...   \n71167    99835  2018  Buffalo Chicken Pizza on Hand Tossed Crust, La...   \n71168    99966  2018                               Tenders Family Meals   \n71169    99968  2018                                3 Cajun Fish Filets   \n71170    99969  2018                              Fish & Popcorn Shrimp   \n71171    99971  2018                                     Seafood Po Boy   \n\n                                        item_description  \n0      Burrito Bowl, Burritos & More, Vegetarian Eats...  \n1      Quesadilla Kids Meal w/ Quesadilla, Applesauce...  \n2      Burrito, Burritos & More, Vegetarian Eats; Cho...  \n3       Flour Tortilla, 12.5 in, Ingredients for Entrees  \n4      French Onion Soup w/ Melted Cheese & Croutons,...  \n...                                                  ...  \n71167  Buffalo Chicken Pizza w/ Buffalo Pizza Sauce, ...  \n71168  Tenders Family Meals w/ Handcrafted Tenders, S...  \n71169  3 Cajun Fish Filets, Seafood, Not Available At...  \n71170   Fish & Popcorn Shrimp w/ Side & Biscuit, Seafood  \n71171  Seafood Po Boy on French Baguette w/ Lettuce, ...  \n\n[30120 rows x 4 columns]",
      "text/html": "<div>\n<style scoped>\n    .dataframe tbody tr th:only-of-type {\n        vertical-align: middle;\n    }\n\n    .dataframe tbody tr th {\n        vertical-align: top;\n    }\n\n    .dataframe thead th {\n        text-align: right;\n    }\n</style>\n<table border=\"1\" class=\"dataframe\">\n  <thead>\n    <tr style=\"text-align: right;\">\n      <th></th>\n      <th>item_id</th>\n      <th>year</th>\n      <th>item_name</th>\n      <th>item_description</th>\n    </tr>\n  </thead>\n  <tbody>\n    <tr>\n      <th>0</th>\n      <td>100054</td>\n      <td>2018</td>\n      <td>Burrito Bowl</td>\n      <td>Burrito Bowl, Burritos &amp; More, Vegetarian Eats...</td>\n    </tr>\n    <tr>\n      <th>1</th>\n      <td>100057</td>\n      <td>2018</td>\n      <td>Quesadilla Kids Meal</td>\n      <td>Quesadilla Kids Meal w/ Quesadilla, Applesauce...</td>\n    </tr>\n    <tr>\n      <th>2</th>\n      <td>100060</td>\n      <td>2018</td>\n      <td>Burrito</td>\n      <td>Burrito, Burritos &amp; More, Vegetarian Eats; Cho...</td>\n    </tr>\n    <tr>\n      <th>3</th>\n      <td>100073</td>\n      <td>2018</td>\n      <td>Flour Tortilla, 12.5 in</td>\n      <td>Flour Tortilla, 12.5 in, Ingredients for Entrees</td>\n    </tr>\n    <tr>\n      <th>4</th>\n      <td>10012</td>\n      <td>2018</td>\n      <td>French Onion Soup</td>\n      <td>French Onion Soup w/ Melted Cheese &amp; Croutons,...</td>\n    </tr>\n    <tr>\n      <th>...</th>\n      <td>...</td>\n      <td>...</td>\n      <td>...</td>\n      <td>...</td>\n    </tr>\n    <tr>\n      <th>71167</th>\n      <td>99835</td>\n      <td>2018</td>\n      <td>Buffalo Chicken Pizza on Hand Tossed Crust, La...</td>\n      <td>Buffalo Chicken Pizza w/ Buffalo Pizza Sauce, ...</td>\n    </tr>\n    <tr>\n      <th>71168</th>\n      <td>99966</td>\n      <td>2018</td>\n      <td>Tenders Family Meals</td>\n      <td>Tenders Family Meals w/ Handcrafted Tenders, S...</td>\n    </tr>\n    <tr>\n      <th>71169</th>\n      <td>99968</td>\n      <td>2018</td>\n      <td>3 Cajun Fish Filets</td>\n      <td>3 Cajun Fish Filets, Seafood, Not Available At...</td>\n    </tr>\n    <tr>\n      <th>71170</th>\n      <td>99969</td>\n      <td>2018</td>\n      <td>Fish &amp; Popcorn Shrimp</td>\n      <td>Fish &amp; Popcorn Shrimp w/ Side &amp; Biscuit, Seafood</td>\n    </tr>\n    <tr>\n      <th>71171</th>\n      <td>99971</td>\n      <td>2018</td>\n      <td>Seafood Po Boy</td>\n      <td>Seafood Po Boy on French Baguette w/ Lettuce, ...</td>\n    </tr>\n  </tbody>\n</table>\n<p>30120 rows × 4 columns</p>\n</div>"
     },
     "execution_count": 217,
     "metadata": {},
     "output_type": "execute_result"
    }
   ],
   "source": [
    "item_info = dat[['Menu_Item_ID', 'Year', 'Item_Name', 'Item_Description']].drop_duplicates()\n",
    "item_info.rename(columns={'Menu_Item_ID':'item_id', 'Year':'year', 'Item_Name':'item_name', 'Item_Description':'item_description'}, inplace=True)\n",
    "item_info"
   ],
   "metadata": {
    "collapsed": false,
    "pycharm": {
     "name": "#%%\n"
    }
   }
  },
  {
   "cell_type": "code",
   "execution_count": 218,
   "outputs": [
    {
     "data": {
      "text/plain": "       item_id  year  r_id  cat_id  calories  total_fat  saturated_fat  \\\n0       100054  2018    72       5       NaN        NaN            NaN   \n1       100057  2018    72       9       NaN        NaN            NaN   \n2       100060  2018    72       9       NaN        NaN            NaN   \n3       100073  2018    72      11     300.0        7.0            3.0   \n4        10012  2018     1      10     380.0       22.0           13.0   \n...        ...   ...   ...     ...       ...        ...            ...   \n71167    99835  2018    69       7     270.0        8.0            4.0   \n71168    99966  2018    70       5       NaN        NaN            NaN   \n71169    99968  2018    70       5     380.0       19.0            5.0   \n71170    99969  2018    70       5       NaN        NaN            NaN   \n71171    99971  2018    70       9       NaN        NaN            NaN   \n\n       trans_fat  cholesterol  sodium  potassium  carbs  protein  sugar  \\\n0            NaN          NaN     NaN        NaN    NaN      NaN    NaN   \n1            NaN          NaN     NaN        NaN    NaN      NaN    NaN   \n2            NaN          NaN     NaN        NaN    NaN      NaN    NaN   \n3            0.0          0.0   760.0       50.0   52.0      8.0    2.0   \n4            0.0         60.0  1390.0        NaN   27.0     17.0    7.0   \n...          ...          ...     ...        ...    ...      ...    ...   \n71167        0.0         30.0   750.0        NaN   37.0     13.0    1.0   \n71168        NaN          NaN     NaN        NaN    NaN      NaN    NaN   \n71169        0.0         40.0  1650.0        NaN   37.0     16.0    4.0   \n71170        NaN          NaN     NaN        NaN    NaN      NaN    NaN   \n71171        NaN          NaN     NaN        NaN    NaN      NaN    NaN   \n\n       dietary_Fiber  \n0                NaN  \n1                NaN  \n2                NaN  \n3                3.0  \n4                2.0  \n...              ...  \n71167            2.0  \n71168            NaN  \n71169            2.0  \n71170            NaN  \n71171            NaN  \n\n[30120 rows x 15 columns]",
      "text/html": "<div>\n<style scoped>\n    .dataframe tbody tr th:only-of-type {\n        vertical-align: middle;\n    }\n\n    .dataframe tbody tr th {\n        vertical-align: top;\n    }\n\n    .dataframe thead th {\n        text-align: right;\n    }\n</style>\n<table border=\"1\" class=\"dataframe\">\n  <thead>\n    <tr style=\"text-align: right;\">\n      <th></th>\n      <th>item_id</th>\n      <th>year</th>\n      <th>r_id</th>\n      <th>cat_id</th>\n      <th>calories</th>\n      <th>total_fat</th>\n      <th>saturated_fat</th>\n      <th>trans_fat</th>\n      <th>cholesterol</th>\n      <th>sodium</th>\n      <th>potassium</th>\n      <th>carbs</th>\n      <th>protein</th>\n      <th>sugar</th>\n      <th>dietary_Fiber</th>\n    </tr>\n  </thead>\n  <tbody>\n    <tr>\n      <th>0</th>\n      <td>100054</td>\n      <td>2018</td>\n      <td>72</td>\n      <td>5</td>\n      <td>NaN</td>\n      <td>NaN</td>\n      <td>NaN</td>\n      <td>NaN</td>\n      <td>NaN</td>\n      <td>NaN</td>\n      <td>NaN</td>\n      <td>NaN</td>\n      <td>NaN</td>\n      <td>NaN</td>\n      <td>NaN</td>\n    </tr>\n    <tr>\n      <th>1</th>\n      <td>100057</td>\n      <td>2018</td>\n      <td>72</td>\n      <td>9</td>\n      <td>NaN</td>\n      <td>NaN</td>\n      <td>NaN</td>\n      <td>NaN</td>\n      <td>NaN</td>\n      <td>NaN</td>\n      <td>NaN</td>\n      <td>NaN</td>\n      <td>NaN</td>\n      <td>NaN</td>\n      <td>NaN</td>\n    </tr>\n    <tr>\n      <th>2</th>\n      <td>100060</td>\n      <td>2018</td>\n      <td>72</td>\n      <td>9</td>\n      <td>NaN</td>\n      <td>NaN</td>\n      <td>NaN</td>\n      <td>NaN</td>\n      <td>NaN</td>\n      <td>NaN</td>\n      <td>NaN</td>\n      <td>NaN</td>\n      <td>NaN</td>\n      <td>NaN</td>\n      <td>NaN</td>\n    </tr>\n    <tr>\n      <th>3</th>\n      <td>100073</td>\n      <td>2018</td>\n      <td>72</td>\n      <td>11</td>\n      <td>300.0</td>\n      <td>7.0</td>\n      <td>3.0</td>\n      <td>0.0</td>\n      <td>0.0</td>\n      <td>760.0</td>\n      <td>50.0</td>\n      <td>52.0</td>\n      <td>8.0</td>\n      <td>2.0</td>\n      <td>3.0</td>\n    </tr>\n    <tr>\n      <th>4</th>\n      <td>10012</td>\n      <td>2018</td>\n      <td>1</td>\n      <td>10</td>\n      <td>380.0</td>\n      <td>22.0</td>\n      <td>13.0</td>\n      <td>0.0</td>\n      <td>60.0</td>\n      <td>1390.0</td>\n      <td>NaN</td>\n      <td>27.0</td>\n      <td>17.0</td>\n      <td>7.0</td>\n      <td>2.0</td>\n    </tr>\n    <tr>\n      <th>...</th>\n      <td>...</td>\n      <td>...</td>\n      <td>...</td>\n      <td>...</td>\n      <td>...</td>\n      <td>...</td>\n      <td>...</td>\n      <td>...</td>\n      <td>...</td>\n      <td>...</td>\n      <td>...</td>\n      <td>...</td>\n      <td>...</td>\n      <td>...</td>\n      <td>...</td>\n    </tr>\n    <tr>\n      <th>71167</th>\n      <td>99835</td>\n      <td>2018</td>\n      <td>69</td>\n      <td>7</td>\n      <td>270.0</td>\n      <td>8.0</td>\n      <td>4.0</td>\n      <td>0.0</td>\n      <td>30.0</td>\n      <td>750.0</td>\n      <td>NaN</td>\n      <td>37.0</td>\n      <td>13.0</td>\n      <td>1.0</td>\n      <td>2.0</td>\n    </tr>\n    <tr>\n      <th>71168</th>\n      <td>99966</td>\n      <td>2018</td>\n      <td>70</td>\n      <td>5</td>\n      <td>NaN</td>\n      <td>NaN</td>\n      <td>NaN</td>\n      <td>NaN</td>\n      <td>NaN</td>\n      <td>NaN</td>\n      <td>NaN</td>\n      <td>NaN</td>\n      <td>NaN</td>\n      <td>NaN</td>\n      <td>NaN</td>\n    </tr>\n    <tr>\n      <th>71169</th>\n      <td>99968</td>\n      <td>2018</td>\n      <td>70</td>\n      <td>5</td>\n      <td>380.0</td>\n      <td>19.0</td>\n      <td>5.0</td>\n      <td>0.0</td>\n      <td>40.0</td>\n      <td>1650.0</td>\n      <td>NaN</td>\n      <td>37.0</td>\n      <td>16.0</td>\n      <td>4.0</td>\n      <td>2.0</td>\n    </tr>\n    <tr>\n      <th>71170</th>\n      <td>99969</td>\n      <td>2018</td>\n      <td>70</td>\n      <td>5</td>\n      <td>NaN</td>\n      <td>NaN</td>\n      <td>NaN</td>\n      <td>NaN</td>\n      <td>NaN</td>\n      <td>NaN</td>\n      <td>NaN</td>\n      <td>NaN</td>\n      <td>NaN</td>\n      <td>NaN</td>\n      <td>NaN</td>\n    </tr>\n    <tr>\n      <th>71171</th>\n      <td>99971</td>\n      <td>2018</td>\n      <td>70</td>\n      <td>9</td>\n      <td>NaN</td>\n      <td>NaN</td>\n      <td>NaN</td>\n      <td>NaN</td>\n      <td>NaN</td>\n      <td>NaN</td>\n      <td>NaN</td>\n      <td>NaN</td>\n      <td>NaN</td>\n      <td>NaN</td>\n      <td>NaN</td>\n    </tr>\n  </tbody>\n</table>\n<p>30120 rows × 15 columns</p>\n</div>"
     },
     "execution_count": 218,
     "metadata": {},
     "output_type": "execute_result"
    }
   ],
   "source": [
    "# Fact table, nutrition data\n",
    "nutrition_facts = dat[['Menu_Item_ID', 'Year', 'r_id', 'cat_id',\n",
    "                       'Calories', 'Total_Fat', 'Saturated_Fat', 'Trans_Fat', 'Cholesterol',\n",
    "                       'Sodium', 'Potassium',\n",
    "                       'Carbohydrates', 'Protein', 'Sugar', 'Dietary_Fiber']]\n",
    "nutrition_facts.columns = ['item_id', 'year', 'r_id', 'cat_id',\n",
    "                           'calories', 'total_fat', 'saturated_fat', 'trans_fat', 'cholesterol',\n",
    "                           'sodium', 'potassium',\n",
    "                           'carbs', 'protein', 'sugar', 'dietary_Fiber']\n",
    "nutrition_facts = nutrition_facts.drop_duplicates()\n",
    "nutrition_facts"
   ],
   "metadata": {
    "collapsed": false,
    "pycharm": {
     "name": "#%%\n"
    }
   }
  },
  {
   "cell_type": "code",
   "execution_count": 219,
   "outputs": [
    {
     "data": {
      "text/plain": "          combo_id  item_id  year             builds  cat_id\n0      704214541.0   100054  2018          Main Item       5\n1       70814571.0   100057  2018          Main Item       9\n2      704214551.0   100060  2018          Main Item       9\n5        2301341.0    10012  2018  Accompanying Item      10\n6        2331351.0    10012  2018  Accompanying Item      10\n...            ...      ...   ...                ...     ...\n71146   66913561.0    99683  2018  Accompanying Item       8\n71147   66913631.0    99683  2018  Accompanying Item       8\n71148  661513201.0    99684  2018          Main Item       8\n71152   81818032.0      997  2018          Main Item       9\n71171  692213732.0    99971  2018          Main Item       9\n\n[44284 rows x 5 columns]",
      "text/html": "<div>\n<style scoped>\n    .dataframe tbody tr th:only-of-type {\n        vertical-align: middle;\n    }\n\n    .dataframe tbody tr th {\n        vertical-align: top;\n    }\n\n    .dataframe thead th {\n        text-align: right;\n    }\n</style>\n<table border=\"1\" class=\"dataframe\">\n  <thead>\n    <tr style=\"text-align: right;\">\n      <th></th>\n      <th>combo_id</th>\n      <th>item_id</th>\n      <th>year</th>\n      <th>builds</th>\n      <th>cat_id</th>\n    </tr>\n  </thead>\n  <tbody>\n    <tr>\n      <th>0</th>\n      <td>704214541.0</td>\n      <td>100054</td>\n      <td>2018</td>\n      <td>Main Item</td>\n      <td>5</td>\n    </tr>\n    <tr>\n      <th>1</th>\n      <td>70814571.0</td>\n      <td>100057</td>\n      <td>2018</td>\n      <td>Main Item</td>\n      <td>9</td>\n    </tr>\n    <tr>\n      <th>2</th>\n      <td>704214551.0</td>\n      <td>100060</td>\n      <td>2018</td>\n      <td>Main Item</td>\n      <td>9</td>\n    </tr>\n    <tr>\n      <th>5</th>\n      <td>2301341.0</td>\n      <td>10012</td>\n      <td>2018</td>\n      <td>Accompanying Item</td>\n      <td>10</td>\n    </tr>\n    <tr>\n      <th>6</th>\n      <td>2331351.0</td>\n      <td>10012</td>\n      <td>2018</td>\n      <td>Accompanying Item</td>\n      <td>10</td>\n    </tr>\n    <tr>\n      <th>...</th>\n      <td>...</td>\n      <td>...</td>\n      <td>...</td>\n      <td>...</td>\n      <td>...</td>\n    </tr>\n    <tr>\n      <th>71146</th>\n      <td>66913561.0</td>\n      <td>99683</td>\n      <td>2018</td>\n      <td>Accompanying Item</td>\n      <td>8</td>\n    </tr>\n    <tr>\n      <th>71147</th>\n      <td>66913631.0</td>\n      <td>99683</td>\n      <td>2018</td>\n      <td>Accompanying Item</td>\n      <td>8</td>\n    </tr>\n    <tr>\n      <th>71148</th>\n      <td>661513201.0</td>\n      <td>99684</td>\n      <td>2018</td>\n      <td>Main Item</td>\n      <td>8</td>\n    </tr>\n    <tr>\n      <th>71152</th>\n      <td>81818032.0</td>\n      <td>997</td>\n      <td>2018</td>\n      <td>Main Item</td>\n      <td>9</td>\n    </tr>\n    <tr>\n      <th>71171</th>\n      <td>692213732.0</td>\n      <td>99971</td>\n      <td>2018</td>\n      <td>Main Item</td>\n      <td>9</td>\n    </tr>\n  </tbody>\n</table>\n<p>44284 rows × 5 columns</p>\n</div>"
     },
     "execution_count": 219,
     "metadata": {},
     "output_type": "execute_result"
    }
   ],
   "source": [
    "# Combo builds fact table\n",
    "combo_facts = dat[dat['Customizable_Build_ID'].notna()]\n",
    "combo_facts = combo_facts[['Customizable_Build_ID', 'Menu_Item_ID', 'Year', 'Customizable_Builds', 'cat_id']]\n",
    "combo_facts.columns = ['combo_id', 'item_id', 'year', 'builds', 'cat_id']\n",
    "combo_facts\n"
   ],
   "metadata": {
    "collapsed": false,
    "pycharm": {
     "name": "#%%\n"
    }
   }
  },
  {
   "cell_type": "code",
   "execution_count": 222,
   "outputs": [],
   "source": [
    "### testing for combo combinations, might be too complicated to implement\n",
    "h = collections.defaultdict(list)\n",
    "combo = combo_facts[combo_facts['combo_id'] == 2331351]\n",
    "key = 1\n",
    "for i in combo['cat_id'].unique():\n",
    "    h[key] = combo[combo['cat_id'] == i]['item_id'].to_list()\n",
    "    key += 1\n",
    "if max(h.keys()) == 5:\n",
    "    combin = [(a, b, c, d, e) for a in h[1] for b in h[2] for c in h[3] for d in h[4] for e in h[5]]\n",
    "    #print(combin)\n",
    "    "
   ],
   "metadata": {
    "collapsed": false,
    "pycharm": {
     "name": "#%%\n"
    }
   }
  },
  {
   "cell_type": "markdown",
   "source": [
    "## Testing for 2017 data"
   ],
   "metadata": {
    "collapsed": false,
    "pycharm": {
     "name": "#%% md\n"
    }
   }
  },
  {
   "cell_type": "code",
   "execution_count": 176,
   "outputs": [
    {
     "name": "stderr",
     "output_type": "stream",
     "text": [
      "/Library/Frameworks/Python.framework/Versions/3.9/lib/python3.9/site-packages/IPython/core/interactiveshell.py:3146: DtypeWarning: Columns (9,36,37,40) have mixed types.Specify dtype option on import or set low_memory=False.\n",
      "  has_raised = await self.run_ast_nodes(code_ast.body, cell_name,\n"
     ]
    }
   ],
   "source": [
    "dat2017 = pd.read_csv('Customizable_Annual_Data/Annual_Data2017.csv')"
   ],
   "metadata": {
    "collapsed": false,
    "pycharm": {
     "name": "#%%\n"
    }
   }
  },
  {
   "cell_type": "code",
   "execution_count": 166,
   "outputs": [],
   "source": [
    "# Get restaurant ID\n",
    "dat2017 = pd.merge(dat2017, restaurant, left_on=['Restaurant'], right_on='r_name', how='left')\n",
    "# Get food category ID\n",
    "dat2017 = pd.merge(dat2017, food_category, left_on=['Food_Category'], right_on='cat_name', how='left')\n"
   ],
   "metadata": {
    "collapsed": false,
    "pycharm": {
     "name": "#%%\n"
    }
   }
  },
  {
   "cell_type": "code",
   "execution_count": 167,
   "outputs": [
    {
     "data": {
      "text/plain": "       item_id  year                     item_name  \\\n0       100054  2017                  Burrito Bowl   \n1       100057  2017          Quesadilla Kids Meal   \n2       100060  2017                       Burrito   \n3       100073  2017                Flour Tortilla   \n5       100078  2017                     Kids Meal   \n...        ...   ...                           ...   \n87808    99965  2017                 Seafood Combo   \n87809    99966  2017  Chicken Tenders Family Meals   \n87810    99968  2017                    Cajun Fish   \n87812    99969  2017         Fish & Popcorn Shrimp   \n87813    99971  2017       Seafood Po Boy Sandwich   \n\n                                        item_description  \n0      Burrito Bowl; Choice of 1 Protein: Grilled Ado...  \n1      Quesadilla Kids Meal w/ Quesadilla, Applesauce...  \n2      Burrito; Choice of 1 Protein: Grilled Adobo, T...  \n3       Flour Tortilla, 12.5 in, Ingredients for Entrees  \n5      Kids Meal w/ Entree & Small Fountain Drink; Ch...  \n...                                                  ...  \n87808  Seafood Combo w/ Signature Side, Biscuit & Dri...  \n87809  Chicken Tenders Family Meals, Popeyes Handcraf...  \n87810                                Cajun Fish, Seafood  \n87812                     Fish & Popcorn Shrimp, Seafood  \n87813  Seafood Po Boy Sandwich on French Baguette w/ ...  \n\n[35099 rows x 4 columns]",
      "text/html": "<div>\n<style scoped>\n    .dataframe tbody tr th:only-of-type {\n        vertical-align: middle;\n    }\n\n    .dataframe tbody tr th {\n        vertical-align: top;\n    }\n\n    .dataframe thead th {\n        text-align: right;\n    }\n</style>\n<table border=\"1\" class=\"dataframe\">\n  <thead>\n    <tr style=\"text-align: right;\">\n      <th></th>\n      <th>item_id</th>\n      <th>year</th>\n      <th>item_name</th>\n      <th>item_description</th>\n    </tr>\n  </thead>\n  <tbody>\n    <tr>\n      <th>0</th>\n      <td>100054</td>\n      <td>2017</td>\n      <td>Burrito Bowl</td>\n      <td>Burrito Bowl; Choice of 1 Protein: Grilled Ado...</td>\n    </tr>\n    <tr>\n      <th>1</th>\n      <td>100057</td>\n      <td>2017</td>\n      <td>Quesadilla Kids Meal</td>\n      <td>Quesadilla Kids Meal w/ Quesadilla, Applesauce...</td>\n    </tr>\n    <tr>\n      <th>2</th>\n      <td>100060</td>\n      <td>2017</td>\n      <td>Burrito</td>\n      <td>Burrito; Choice of 1 Protein: Grilled Adobo, T...</td>\n    </tr>\n    <tr>\n      <th>3</th>\n      <td>100073</td>\n      <td>2017</td>\n      <td>Flour Tortilla</td>\n      <td>Flour Tortilla, 12.5 in, Ingredients for Entrees</td>\n    </tr>\n    <tr>\n      <th>5</th>\n      <td>100078</td>\n      <td>2017</td>\n      <td>Kids Meal</td>\n      <td>Kids Meal w/ Entree &amp; Small Fountain Drink; Ch...</td>\n    </tr>\n    <tr>\n      <th>...</th>\n      <td>...</td>\n      <td>...</td>\n      <td>...</td>\n      <td>...</td>\n    </tr>\n    <tr>\n      <th>87808</th>\n      <td>99965</td>\n      <td>2017</td>\n      <td>Seafood Combo</td>\n      <td>Seafood Combo w/ Signature Side, Biscuit &amp; Dri...</td>\n    </tr>\n    <tr>\n      <th>87809</th>\n      <td>99966</td>\n      <td>2017</td>\n      <td>Chicken Tenders Family Meals</td>\n      <td>Chicken Tenders Family Meals, Popeyes Handcraf...</td>\n    </tr>\n    <tr>\n      <th>87810</th>\n      <td>99968</td>\n      <td>2017</td>\n      <td>Cajun Fish</td>\n      <td>Cajun Fish, Seafood</td>\n    </tr>\n    <tr>\n      <th>87812</th>\n      <td>99969</td>\n      <td>2017</td>\n      <td>Fish &amp; Popcorn Shrimp</td>\n      <td>Fish &amp; Popcorn Shrimp, Seafood</td>\n    </tr>\n    <tr>\n      <th>87813</th>\n      <td>99971</td>\n      <td>2017</td>\n      <td>Seafood Po Boy Sandwich</td>\n      <td>Seafood Po Boy Sandwich on French Baguette w/ ...</td>\n    </tr>\n  </tbody>\n</table>\n<p>35099 rows × 4 columns</p>\n</div>"
     },
     "execution_count": 167,
     "metadata": {},
     "output_type": "execute_result"
    }
   ],
   "source": [
    "item_info_2017 = dat2017[['Menu_Item_ID', 'Year', 'Item_Name', 'Item_Description']].drop_duplicates()\n",
    "item_info_2017.rename(columns={'Menu_Item_ID':'item_id', 'Year':'year', 'Item_Name':'item_name', 'Item_Description':'item_description'}, inplace=True)\n",
    "item_info_2017"
   ],
   "metadata": {
    "collapsed": false,
    "pycharm": {
     "name": "#%%\n"
    }
   }
  },
  {
   "cell_type": "code",
   "execution_count": 168,
   "outputs": [
    {
     "data": {
      "text/plain": "       item_id  year  r_id  cat_id  calories  total_fat  saturated_fat  \\\n0       100054  2017    72       5       NaN        NaN            NaN   \n1       100057  2017    72       9       NaN        NaN            NaN   \n2       100060  2017    72       9       NaN        NaN            NaN   \n3       100073  2017    72      11     300.0        7.0            3.0   \n5       100078  2017    73       5       NaN        NaN            NaN   \n...        ...   ...   ...     ...       ...        ...            ...   \n87808    99965  2017    70       5       NaN        NaN            NaN   \n87809    99966  2017    70       5       NaN        NaN            NaN   \n87810    99968  2017    70       5     130.0        2.0            0.0   \n87812    99969  2017    70       5       NaN        NaN            NaN   \n87813    99971  2017    70       9       NaN        NaN            NaN   \n\n       trans_fat  cholesterol  sodium  potassium  carbs  protein  sugar  \\\n0            NaN          NaN     NaN        NaN    NaN      NaN    NaN   \n1            NaN          NaN     NaN        NaN    NaN      NaN    NaN   \n2            NaN          NaN     NaN        NaN    NaN      NaN    NaN   \n3            0.0          0.0   760.0       50.0   52.0      8.0    2.0   \n5            NaN          NaN     NaN        NaN    NaN      NaN    NaN   \n...          ...          ...     ...        ...    ...      ...    ...   \n87808        NaN          NaN     NaN        NaN    NaN      NaN    NaN   \n87809        NaN          NaN     NaN        NaN    NaN      NaN    NaN   \n87810        0.0         15.0   550.0        NaN   12.0      5.0    1.0   \n87812        NaN          NaN     NaN        NaN    NaN      NaN    NaN   \n87813        NaN          NaN     NaN        NaN    NaN      NaN    NaN   \n\n       dietary_Fiber  \n0                NaN  \n1                NaN  \n2                NaN  \n3                3.0  \n5                NaN  \n...              ...  \n87808            NaN  \n87809            NaN  \n87810            1.0  \n87812            NaN  \n87813            NaN  \n\n[35099 rows x 15 columns]",
      "text/html": "<div>\n<style scoped>\n    .dataframe tbody tr th:only-of-type {\n        vertical-align: middle;\n    }\n\n    .dataframe tbody tr th {\n        vertical-align: top;\n    }\n\n    .dataframe thead th {\n        text-align: right;\n    }\n</style>\n<table border=\"1\" class=\"dataframe\">\n  <thead>\n    <tr style=\"text-align: right;\">\n      <th></th>\n      <th>item_id</th>\n      <th>year</th>\n      <th>r_id</th>\n      <th>cat_id</th>\n      <th>calories</th>\n      <th>total_fat</th>\n      <th>saturated_fat</th>\n      <th>trans_fat</th>\n      <th>cholesterol</th>\n      <th>sodium</th>\n      <th>potassium</th>\n      <th>carbs</th>\n      <th>protein</th>\n      <th>sugar</th>\n      <th>dietary_Fiber</th>\n    </tr>\n  </thead>\n  <tbody>\n    <tr>\n      <th>0</th>\n      <td>100054</td>\n      <td>2017</td>\n      <td>72</td>\n      <td>5</td>\n      <td>NaN</td>\n      <td>NaN</td>\n      <td>NaN</td>\n      <td>NaN</td>\n      <td>NaN</td>\n      <td>NaN</td>\n      <td>NaN</td>\n      <td>NaN</td>\n      <td>NaN</td>\n      <td>NaN</td>\n      <td>NaN</td>\n    </tr>\n    <tr>\n      <th>1</th>\n      <td>100057</td>\n      <td>2017</td>\n      <td>72</td>\n      <td>9</td>\n      <td>NaN</td>\n      <td>NaN</td>\n      <td>NaN</td>\n      <td>NaN</td>\n      <td>NaN</td>\n      <td>NaN</td>\n      <td>NaN</td>\n      <td>NaN</td>\n      <td>NaN</td>\n      <td>NaN</td>\n      <td>NaN</td>\n    </tr>\n    <tr>\n      <th>2</th>\n      <td>100060</td>\n      <td>2017</td>\n      <td>72</td>\n      <td>9</td>\n      <td>NaN</td>\n      <td>NaN</td>\n      <td>NaN</td>\n      <td>NaN</td>\n      <td>NaN</td>\n      <td>NaN</td>\n      <td>NaN</td>\n      <td>NaN</td>\n      <td>NaN</td>\n      <td>NaN</td>\n      <td>NaN</td>\n    </tr>\n    <tr>\n      <th>3</th>\n      <td>100073</td>\n      <td>2017</td>\n      <td>72</td>\n      <td>11</td>\n      <td>300.0</td>\n      <td>7.0</td>\n      <td>3.0</td>\n      <td>0.0</td>\n      <td>0.0</td>\n      <td>760.0</td>\n      <td>50.0</td>\n      <td>52.0</td>\n      <td>8.0</td>\n      <td>2.0</td>\n      <td>3.0</td>\n    </tr>\n    <tr>\n      <th>5</th>\n      <td>100078</td>\n      <td>2017</td>\n      <td>73</td>\n      <td>5</td>\n      <td>NaN</td>\n      <td>NaN</td>\n      <td>NaN</td>\n      <td>NaN</td>\n      <td>NaN</td>\n      <td>NaN</td>\n      <td>NaN</td>\n      <td>NaN</td>\n      <td>NaN</td>\n      <td>NaN</td>\n      <td>NaN</td>\n    </tr>\n    <tr>\n      <th>...</th>\n      <td>...</td>\n      <td>...</td>\n      <td>...</td>\n      <td>...</td>\n      <td>...</td>\n      <td>...</td>\n      <td>...</td>\n      <td>...</td>\n      <td>...</td>\n      <td>...</td>\n      <td>...</td>\n      <td>...</td>\n      <td>...</td>\n      <td>...</td>\n      <td>...</td>\n    </tr>\n    <tr>\n      <th>87808</th>\n      <td>99965</td>\n      <td>2017</td>\n      <td>70</td>\n      <td>5</td>\n      <td>NaN</td>\n      <td>NaN</td>\n      <td>NaN</td>\n      <td>NaN</td>\n      <td>NaN</td>\n      <td>NaN</td>\n      <td>NaN</td>\n      <td>NaN</td>\n      <td>NaN</td>\n      <td>NaN</td>\n      <td>NaN</td>\n    </tr>\n    <tr>\n      <th>87809</th>\n      <td>99966</td>\n      <td>2017</td>\n      <td>70</td>\n      <td>5</td>\n      <td>NaN</td>\n      <td>NaN</td>\n      <td>NaN</td>\n      <td>NaN</td>\n      <td>NaN</td>\n      <td>NaN</td>\n      <td>NaN</td>\n      <td>NaN</td>\n      <td>NaN</td>\n      <td>NaN</td>\n      <td>NaN</td>\n    </tr>\n    <tr>\n      <th>87810</th>\n      <td>99968</td>\n      <td>2017</td>\n      <td>70</td>\n      <td>5</td>\n      <td>130.0</td>\n      <td>2.0</td>\n      <td>0.0</td>\n      <td>0.0</td>\n      <td>15.0</td>\n      <td>550.0</td>\n      <td>NaN</td>\n      <td>12.0</td>\n      <td>5.0</td>\n      <td>1.0</td>\n      <td>1.0</td>\n    </tr>\n    <tr>\n      <th>87812</th>\n      <td>99969</td>\n      <td>2017</td>\n      <td>70</td>\n      <td>5</td>\n      <td>NaN</td>\n      <td>NaN</td>\n      <td>NaN</td>\n      <td>NaN</td>\n      <td>NaN</td>\n      <td>NaN</td>\n      <td>NaN</td>\n      <td>NaN</td>\n      <td>NaN</td>\n      <td>NaN</td>\n      <td>NaN</td>\n    </tr>\n    <tr>\n      <th>87813</th>\n      <td>99971</td>\n      <td>2017</td>\n      <td>70</td>\n      <td>9</td>\n      <td>NaN</td>\n      <td>NaN</td>\n      <td>NaN</td>\n      <td>NaN</td>\n      <td>NaN</td>\n      <td>NaN</td>\n      <td>NaN</td>\n      <td>NaN</td>\n      <td>NaN</td>\n      <td>NaN</td>\n      <td>NaN</td>\n    </tr>\n  </tbody>\n</table>\n<p>35099 rows × 15 columns</p>\n</div>"
     },
     "execution_count": 168,
     "metadata": {},
     "output_type": "execute_result"
    }
   ],
   "source": [
    "# Fact table, nutrition data\n",
    "nutrition_facts_2017 = dat2017[['Menu_Item_ID', 'Year', 'r_id', 'cat_id',\n",
    "                       'Calories', 'Total_Fat', 'Saturated_Fat', 'Trans_Fat', 'Cholesterol',\n",
    "                       'Sodium', 'Potassium',\n",
    "                       'Carbohydrates', 'Protein', 'Sugar', 'Dietary_Fiber']]\n",
    "nutrition_facts_2017.columns = ['item_id', 'year', 'r_id', 'cat_id',\n",
    "                           'calories', 'total_fat', 'saturated_fat', 'trans_fat', 'cholesterol',\n",
    "                           'sodium', 'potassium',\n",
    "                           'carbs', 'protein', 'sugar', 'dietary_Fiber']\n",
    "nutrition_facts_2017 = nutrition_facts_2017.drop_duplicates()\n",
    "nutrition_facts_2017"
   ],
   "metadata": {
    "collapsed": false,
    "pycharm": {
     "name": "#%%\n"
    }
   }
  },
  {
   "cell_type": "code",
   "execution_count": 175,
   "outputs": [
    {
     "data": {
      "text/plain": "          combo_id  item_id  year             builds  cat_id\n0      701119011.0   100054  2017          Main Item       5\n1      702119031.0   100057  2017          Main Item       9\n2      701119001.0   100060  2017          Main Item       9\n4      705019061.0   100073  2017  Accompanying Item      11\n5      712519131.0   100078  2017          Main Item       5\n...            ...      ...   ...                ...     ...\n87776   81222381.0      997  2017          Main Item       9\n87807  692818991.0    99964  2017          Main Item       5\n87808  692718981.0    99965  2017          Main Item       5\n87809  692818961.0    99966  2017          Main Item       5\n87811  692718981.0    99968  2017  Accompanying Item       5\n\n[55639 rows x 5 columns]",
      "text/html": "<div>\n<style scoped>\n    .dataframe tbody tr th:only-of-type {\n        vertical-align: middle;\n    }\n\n    .dataframe tbody tr th {\n        vertical-align: top;\n    }\n\n    .dataframe thead th {\n        text-align: right;\n    }\n</style>\n<table border=\"1\" class=\"dataframe\">\n  <thead>\n    <tr style=\"text-align: right;\">\n      <th></th>\n      <th>combo_id</th>\n      <th>item_id</th>\n      <th>year</th>\n      <th>builds</th>\n      <th>cat_id</th>\n    </tr>\n  </thead>\n  <tbody>\n    <tr>\n      <th>0</th>\n      <td>701119011.0</td>\n      <td>100054</td>\n      <td>2017</td>\n      <td>Main Item</td>\n      <td>5</td>\n    </tr>\n    <tr>\n      <th>1</th>\n      <td>702119031.0</td>\n      <td>100057</td>\n      <td>2017</td>\n      <td>Main Item</td>\n      <td>9</td>\n    </tr>\n    <tr>\n      <th>2</th>\n      <td>701119001.0</td>\n      <td>100060</td>\n      <td>2017</td>\n      <td>Main Item</td>\n      <td>9</td>\n    </tr>\n    <tr>\n      <th>4</th>\n      <td>705019061.0</td>\n      <td>100073</td>\n      <td>2017</td>\n      <td>Accompanying Item</td>\n      <td>11</td>\n    </tr>\n    <tr>\n      <th>5</th>\n      <td>712519131.0</td>\n      <td>100078</td>\n      <td>2017</td>\n      <td>Main Item</td>\n      <td>5</td>\n    </tr>\n    <tr>\n      <th>...</th>\n      <td>...</td>\n      <td>...</td>\n      <td>...</td>\n      <td>...</td>\n      <td>...</td>\n    </tr>\n    <tr>\n      <th>87776</th>\n      <td>81222381.0</td>\n      <td>997</td>\n      <td>2017</td>\n      <td>Main Item</td>\n      <td>9</td>\n    </tr>\n    <tr>\n      <th>87807</th>\n      <td>692818991.0</td>\n      <td>99964</td>\n      <td>2017</td>\n      <td>Main Item</td>\n      <td>5</td>\n    </tr>\n    <tr>\n      <th>87808</th>\n      <td>692718981.0</td>\n      <td>99965</td>\n      <td>2017</td>\n      <td>Main Item</td>\n      <td>5</td>\n    </tr>\n    <tr>\n      <th>87809</th>\n      <td>692818961.0</td>\n      <td>99966</td>\n      <td>2017</td>\n      <td>Main Item</td>\n      <td>5</td>\n    </tr>\n    <tr>\n      <th>87811</th>\n      <td>692718981.0</td>\n      <td>99968</td>\n      <td>2017</td>\n      <td>Accompanying Item</td>\n      <td>5</td>\n    </tr>\n  </tbody>\n</table>\n<p>55639 rows × 5 columns</p>\n</div>"
     },
     "execution_count": 175,
     "metadata": {},
     "output_type": "execute_result"
    }
   ],
   "source": [
    "# Combo builds fact table\n",
    "combo_facts_2017 = dat2017[dat2017['Customizable_Build_ID'].notna()]\n",
    "combo_facts_2017 = combo_facts_2017[['Customizable_Build_ID', 'Menu_Item_ID', 'Year', 'Customizable_Builds', 'cat_id']]\n",
    "combo_facts_2017.columns = ['combo_id', 'item_id', 'year', 'builds', 'cat_id']\n",
    "combo_facts_2017\n"
   ],
   "metadata": {
    "collapsed": false,
    "pycharm": {
     "name": "#%%\n"
    }
   }
  }
 ],
 "metadata": {
  "kernelspec": {
   "display_name": "Python 3",
   "language": "python",
   "name": "python3"
  },
  "language_info": {
   "codemirror_mode": {
    "name": "ipython",
    "version": 2
   },
   "file_extension": ".py",
   "mimetype": "text/x-python",
   "name": "python",
   "nbconvert_exporter": "python",
   "pygments_lexer": "ipython2",
   "version": "2.7.6"
  }
 },
 "nbformat": 4,
 "nbformat_minor": 0
}