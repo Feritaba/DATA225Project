{
 "cells": [
  {
   "cell_type": "code",
   "execution_count": 17,
   "outputs": [],
   "source": [
    "import pandas as pd\n",
    "import mysql.connector\n",
    "import numpy as np\n",
    "from matplotlib import pyplot as plt\n",
    "from sklearn.cluster import KMeans\n",
    "from sklearn import preprocessing\n"
   ],
   "metadata": {
    "collapsed": false,
    "pycharm": {
     "name": "#%%\n"
    }
   }
  },
  {
   "cell_type": "markdown",
   "source": [
    "##set up connection"
   ],
   "metadata": {
    "collapsed": false
   }
  },
  {
   "cell_type": "code",
   "execution_count": 18,
   "outputs": [],
   "source": [
    "# Functions that used to connect with the cloud database and display results.\n",
    "def create_connection():\n",
    "    conn = None\n",
    "    try:\n",
    "       conn = mysql.connector.connect(\n",
    "          user=\"DB00004175\",\n",
    "          password=\"tTNlXEirHh)EmwXhtp4koTR\",\n",
    "          host=\"menu-data-db.mdb0002067.db.skysql.net\",\n",
    "          ssl_ca=\"skysql_chain.pem\",\n",
    "          port=5001)\n",
    "       conn.autocommit = False\n",
    "       return conn\n",
    "    except mysql.connector.Error as e:\n",
    "       print(f\"Error connecting to MariaDB Platform: {e}\")\n",
    "    return conn\n",
    "\n",
    "def sql_execute(conn, sql):\n",
    "\n",
    "    try:\n",
    "        cur = conn.cursor()\n",
    "        cur.execute(sql, multi=True)\n",
    "        conn.commit()\n",
    "    except mysql.connector.Error as e:\n",
    "        print(e)\n",
    "\n",
    "def sql_execute_show(conn, sql):\n",
    "\n",
    "    try:\n",
    "        df = pd.read_sql(sql, con = conn)\n",
    "        return df\n",
    "    except mysql.connector.Error as e:\n",
    "        print(e)"
   ],
   "metadata": {
    "collapsed": false,
    "pycharm": {
     "name": "#%%\n"
    }
   }
  },
  {
   "cell_type": "code",
   "execution_count": 19,
   "outputs": [],
   "source": [
    "# Only call once\n",
    "conn = create_connection()"
   ],
   "metadata": {
    "collapsed": false,
    "pycharm": {
     "name": "#%%\n"
    }
   }
  },
  {
   "cell_type": "markdown",
   "source": [
    "## fetch data from database\n",
    "## run clustering - an unsupervised machine learning to identify groups of restaurant based on their menu nutrient\n",
    "## segment restaurant into groups with similar nutrient type\n",
    "## In my opinion, it will help build our \"people also like\" recommendation"
   ],
   "metadata": {
    "collapsed": false
   }
  },
  {
   "cell_type": "code",
   "execution_count": 20,
   "outputs": [],
   "source": [
    "df_sql = sql_execute_show(conn, sql = '''\n",
    "SELECT b.r_name, AVG(calories), AVG(total_fat), AVG(Protein), AVG(sodium), AVG(sugar), AVG(dietary_Fiber)\n",
    "FROM menu_cstore.nutrition_facts a\n",
    "LEFT JOIN menu_cstore.restaurant b ON a.r_id = b.r_id\n",
    "GROUP BY b.r_name\n",
    ";\n",
    "''')"
   ],
   "metadata": {
    "collapsed": false,
    "pycharm": {
     "name": "#%%\n"
    }
   }
  },
  {
   "cell_type": "markdown",
   "source": [
    "##data cleasing and normalization"
   ],
   "metadata": {
    "collapsed": false
   }
  },
  {
   "cell_type": "code",
   "execution_count": 21,
   "outputs": [],
   "source": [
    "def clean_dataset(df):\n",
    "    assert isinstance(df, pd.DataFrame), \"df needs to be a pd.DataFrame\"\n",
    "    df.dropna(inplace=True)\n",
    "    indices_to_keep = ~df.isin([np.nan, np.inf, -np.inf]).any(1)\n",
    "    return df[indices_to_keep].astype(np.float64)\n",
    "\n",
    "df_re = df_sql.set_index('r_name')\n",
    "clean_dataset(df_re)\n",
    "names = pd.DataFrame(df_re.index)\n",
    "\n",
    "\n",
    "scaler = preprocessing.MinMaxScaler()\n",
    "df_re_normal = scaler.fit_transform(df_re)"
   ],
   "metadata": {
    "collapsed": false,
    "pycharm": {
     "name": "#%%\n"
    }
   }
  },
  {
   "cell_type": "markdown",
   "source": [
    "##clustering and find out k = 4 is the good number where the decrease in distortion starts to level off"
   ],
   "metadata": {
    "collapsed": false
   }
  },
  {
   "cell_type": "code",
   "execution_count": 22,
   "outputs": [
    {
     "data": {
      "text/plain": "<Figure size 432x288 with 1 Axes>",
      "image/png": "[encoded data removed]"
     },
     "metadata": {
      "needs_background": "light"
     },
     "output_type": "display_data"
    }
   ],
   "source": [
    "inertia = []\n",
    "K = range(1,10)\n",
    "for k in K:\n",
    "    kmeanModel = KMeans(n_clusters=k).fit(df_re_normal)\n",
    "    kmeanModel.fit(df_re_normal)\n",
    "    inertia.append(kmeanModel.inertia_)\n",
    "plt.plot(K, inertia, 'bx-')\n",
    "plt.xlabel('k')\n",
    "plt.ylabel('Inertia')\n",
    "plt.show()"
   ],
   "metadata": {
    "collapsed": false,
    "pycharm": {
     "name": "#%%\n"
    }
   }
  },
  {
   "cell_type": "markdown",
   "source": [
    "##concate the types and restaurants together\n",
    "##showing restaurants in the same group\n",
    "##so that we can recommand resaurants with similiar nutrients pattern to people."
   ],
   "metadata": {
    "collapsed": false
   }
  },
  {
   "cell_type": "code",
   "execution_count": 23,
   "outputs": [
    {
     "name": "stdout",
     "output_type": "stream",
     "text": [
      "                    Types  AVG(calories)  AVG(total_fat)  AVG(Protein)  \\\n",
      "r_name                                                                   \n",
      "Auntie Anne's           0       275.5607          5.2865        4.4921   \n",
      "Baskin Robbins          0       457.2594         18.5234        8.7413   \n",
      "Burger King             0       398.2821         17.7964       11.6295   \n",
      "Church's Chicken        0       249.2882          8.3869        5.9079   \n",
      "Culver's                0       474.1866         30.4674       19.1938   \n",
      "Dairy Queen             0       525.8934         19.7327       11.5364   \n",
      "Dunkin' Donuts          0       273.7371          8.2878        6.2484   \n",
      "In-N-Out Burger         0       303.7284         15.5200       11.7850   \n",
      "Jamba Juice             0       299.6158          4.1945        6.8399   \n",
      "KFC                     0       244.6993          7.2760        6.5721   \n",
      "Krispy Kreme            0       261.4813          7.4261        6.3331   \n",
      "Long John Silver's      0       215.3468          5.9252        3.1508   \n",
      "McDonald's              0       318.1525         11.4862       10.3669   \n",
      "Panda Express           0       214.9644          6.2894        6.7272   \n",
      "Sheetz                  0       223.1426          6.9818        6.5991   \n",
      "Sonic                   0       406.9168         16.2108        7.0566   \n",
      "Starbucks               0       260.2133          7.4618        6.4358   \n",
      "Steak 'N Shake          0       438.0960         25.9651       12.9231   \n",
      "Wawa                    0       327.9445         12.8564       11.4601   \n",
      "Whataburger             0       434.8670         18.6071       13.5658   \n",
      "White Castle            0       378.2370         13.7935        8.1544   \n",
      "\n",
      "                    AVG(sodium)  AVG(sugar)  AVG(dietary_Fiber)  \n",
      "r_name                                                           \n",
      "Auntie Anne's          330.4551     33.4180              0.6921  \n",
      "Baskin Robbins         207.2902     56.3655              1.5204  \n",
      "Burger King            616.6327     27.6312              1.2671  \n",
      "Church's Chicken       432.1224     27.3121              1.0487  \n",
      "Culver's               520.8213     36.4140              2.0164  \n",
      "Dairy Queen            427.1246     58.1372              1.4572  \n",
      "Dunkin' Donuts         242.9236     33.6873              0.8429  \n",
      "In-N-Out Burger        405.5948     28.6121              1.3100  \n",
      "Jamba Juice            133.2113     50.0751              3.7621  \n",
      "KFC                    409.5972     31.7460              0.8768  \n",
      "Krispy Kreme           160.4532     33.6321              0.8313  \n",
      "Long John Silver's     291.2043     32.6805              0.6428  \n",
      "McDonald's             339.7588     32.2826              1.0867  \n",
      "Panda Express          368.8802     24.6987              0.9578  \n",
      "Sheetz                 224.6046     26.7965              0.6452  \n",
      "Sonic                  394.4275     46.6661              0.9627  \n",
      "Starbucks              145.7592     37.4298              0.9140  \n",
      "Steak 'N Shake         591.8237     32.4213              2.1976  \n",
      "Wawa                   605.0117     25.4090              1.4552  \n",
      "Whataburger            691.8955     30.3362              1.6897  \n",
      "White Castle           379.6129     46.0859              1.3448  \n"
     ]
    }
   ],
   "source": [
    "kmeans = KMeans(n_clusters= 4).fit(df_re_normal)\n",
    "df_re.insert(0, 'Types', kmeans.labels_, True)\n",
    "group0 = df_re[df_re['Types'] == 0]\n",
    "print(group0)"
   ],
   "metadata": {
    "collapsed": false,
    "pycharm": {
     "name": "#%%\n"
    }
   }
  },
  {
   "cell_type": "code",
   "execution_count": 24,
   "outputs": [],
   "source": [
    "conn.close()\n",
    "\n"
   ],
   "metadata": {
    "collapsed": false,
    "pycharm": {
     "name": "#%%\n"
    }
   }
  }
 ],
 "metadata": {
  "kernelspec": {
   "display_name": "Python 3",
   "language": "python",
   "name": "python3"
  },
  "language_info": {
   "codemirror_mode": {
    "name": "ipython",
    "version": 2
   },
   "file_extension": ".py",
   "mimetype": "text/x-python",
   "name": "python",
   "nbconvert_exporter": "python",
   "pygments_lexer": "ipython2",
   "version": "2.7.6"
  }
 },
 "nbformat": 4,
 "nbformat_minor": 0
}